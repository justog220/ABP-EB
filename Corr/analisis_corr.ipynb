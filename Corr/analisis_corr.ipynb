{
 "cells": [
  {
   "cell_type": "code",
   "execution_count": 2,
   "metadata": {},
   "outputs": [],
   "source": [
    "import sqlite3\n",
    "import pandas as pd\n",
    "import seaborn as sns\n",
    "import matplotlib.pyplot as plt\n",
    "from tqdm import tqdm\n",
    "\n",
    "conn = sqlite3.connect('../DB/unknome_db_03_Nov_2023.sqlite')"
   ]
  },
  {
   "cell_type": "code",
   "execution_count": 3,
   "metadata": {},
   "outputs": [
    {
     "name": "stdout",
     "output_type": "stream",
     "text": [
      "<class 'pandas.core.frame.DataFrame'>\n",
      "RangeIndex: 147942 entries, 0 to 147941\n",
      "Data columns (total 5 columns):\n",
      " #   Column        Non-Null Count   Dtype  \n",
      "---  ------        --------------   -----  \n",
      " 0   accessions    147942 non-null  object \n",
      " 1   subcell_locs  92377 non-null   object \n",
      " 2   species       147942 non-null  object \n",
      " 3   pfam_ids      140705 non-null  object \n",
      " 4   knownness     147942 non-null  float64\n",
      "dtypes: float64(1), object(4)\n",
      "memory usage: 5.6+ MB\n"
     ]
    }
   ],
   "source": [
    "data_interes = ['accessions',\n",
    "                'subcell_locs',\n",
    "                'species',\n",
    "                'pfam_ids',\n",
    "                'knownness']\n",
    "\n",
    "select = ''\n",
    "for i in data_interes:\n",
    "    select += i + \", \"\n",
    "select = select[:len(select)-2]\n",
    "\n",
    "\n",
    "consulta  = f\"SELECT {select} FROM Protein WHERE knownness is not null\"\n",
    "\n",
    "df = pd.read_sql_query(consulta, conn)\n",
    "\n",
    "df.info()"
   ]
  },
  {
   "cell_type": "code",
   "execution_count": 4,
   "metadata": {},
   "outputs": [],
   "source": [
    "df_pfam = df[[\"accessions\", \"pfam_ids\", \"knownness\"]].copy()\n",
    "df_pfam.dropna(inplace=True)\n",
    "df_pfam['pfam_ids'] = df_pfam[\"pfam_ids\"].str.split(\";\")"
   ]
  },
  {
   "cell_type": "code",
   "execution_count": 5,
   "metadata": {},
   "outputs": [
    {
     "data": {
      "text/html": [
       "<div>\n",
       "<style scoped>\n",
       "    .dataframe tbody tr th:only-of-type {\n",
       "        vertical-align: middle;\n",
       "    }\n",
       "\n",
       "    .dataframe tbody tr th {\n",
       "        vertical-align: top;\n",
       "    }\n",
       "\n",
       "    .dataframe thead th {\n",
       "        text-align: right;\n",
       "    }\n",
       "</style>\n",
       "<table border=\"1\" class=\"dataframe\">\n",
       "  <thead>\n",
       "    <tr style=\"text-align: right;\">\n",
       "      <th></th>\n",
       "      <th>accessions</th>\n",
       "      <th>pfam_ids</th>\n",
       "      <th>knownness</th>\n",
       "    </tr>\n",
       "  </thead>\n",
       "  <tbody>\n",
       "    <tr>\n",
       "      <th>0</th>\n",
       "      <td>F4HZG9;F4HZH0;Q8GYQ0;Q9ZPZ5;W6HYK5</td>\n",
       "      <td>[PF05195, PF00557]</td>\n",
       "      <td>4.0</td>\n",
       "    </tr>\n",
       "    <tr>\n",
       "      <th>1</th>\n",
       "      <td>Q1PDV6;A0MFG6</td>\n",
       "      <td>[PF00069]</td>\n",
       "      <td>6.4</td>\n",
       "    </tr>\n",
       "    <tr>\n",
       "      <th>2</th>\n",
       "      <td>P56757</td>\n",
       "      <td>[PF00006, PF00306, PF02874]</td>\n",
       "      <td>2.1</td>\n",
       "    </tr>\n",
       "    <tr>\n",
       "      <th>3</th>\n",
       "      <td>O04567;Q0WPX0</td>\n",
       "      <td>[PF13516, PF08263, PF07714]</td>\n",
       "      <td>0.0</td>\n",
       "    </tr>\n",
       "    <tr>\n",
       "      <th>4</th>\n",
       "      <td>Q0WRJ7;Q9M222</td>\n",
       "      <td>[PF00254]</td>\n",
       "      <td>2.4</td>\n",
       "    </tr>\n",
       "    <tr>\n",
       "      <th>...</th>\n",
       "      <td>...</td>\n",
       "      <td>...</td>\n",
       "      <td>...</td>\n",
       "    </tr>\n",
       "    <tr>\n",
       "      <th>147937</th>\n",
       "      <td>Q9USL1</td>\n",
       "      <td>[PF08662, PF00400]</td>\n",
       "      <td>1.5</td>\n",
       "    </tr>\n",
       "    <tr>\n",
       "      <th>147938</th>\n",
       "      <td>O42653</td>\n",
       "      <td>[PF03109]</td>\n",
       "      <td>0.5</td>\n",
       "    </tr>\n",
       "    <tr>\n",
       "      <th>147939</th>\n",
       "      <td>Q9HDX3</td>\n",
       "      <td>[PF07859]</td>\n",
       "      <td>0.0</td>\n",
       "    </tr>\n",
       "    <tr>\n",
       "      <th>147940</th>\n",
       "      <td>Q09839</td>\n",
       "      <td>[PF00294]</td>\n",
       "      <td>0.5</td>\n",
       "    </tr>\n",
       "    <tr>\n",
       "      <th>147941</th>\n",
       "      <td>Q9P3E3</td>\n",
       "      <td>[PF03949]</td>\n",
       "      <td>2.0</td>\n",
       "    </tr>\n",
       "  </tbody>\n",
       "</table>\n",
       "<p>140705 rows × 3 columns</p>\n",
       "</div>"
      ],
      "text/plain": [
       "                                accessions                     pfam_ids  \\\n",
       "0       F4HZG9;F4HZH0;Q8GYQ0;Q9ZPZ5;W6HYK5           [PF05195, PF00557]   \n",
       "1                            Q1PDV6;A0MFG6                    [PF00069]   \n",
       "2                                   P56757  [PF00006, PF00306, PF02874]   \n",
       "3                            O04567;Q0WPX0  [PF13516, PF08263, PF07714]   \n",
       "4                            Q0WRJ7;Q9M222                    [PF00254]   \n",
       "...                                    ...                          ...   \n",
       "147937                              Q9USL1           [PF08662, PF00400]   \n",
       "147938                              O42653                    [PF03109]   \n",
       "147939                              Q9HDX3                    [PF07859]   \n",
       "147940                              Q09839                    [PF00294]   \n",
       "147941                              Q9P3E3                    [PF03949]   \n",
       "\n",
       "        knownness  \n",
       "0             4.0  \n",
       "1             6.4  \n",
       "2             2.1  \n",
       "3             0.0  \n",
       "4             2.4  \n",
       "...           ...  \n",
       "147937        1.5  \n",
       "147938        0.5  \n",
       "147939        0.0  \n",
       "147940        0.5  \n",
       "147941        2.0  \n",
       "\n",
       "[140705 rows x 3 columns]"
      ]
     },
     "execution_count": 5,
     "metadata": {},
     "output_type": "execute_result"
    }
   ],
   "source": [
    "df_pfam"
   ]
  },
  {
   "cell_type": "code",
   "execution_count": 6,
   "metadata": {},
   "outputs": [],
   "source": [
    "df_pfam[\"pfam_ids\"] = df_pfam[\"pfam_ids\"].str.join(\";\")\n",
    "pfam_dummies = df_pfam[\"pfam_ids\"].str.get_dummies(sep=\";\")"
   ]
  },
  {
   "cell_type": "code",
   "execution_count": 7,
   "metadata": {},
   "outputs": [
    {
     "name": "stdout",
     "output_type": "stream",
     "text": [
      "<class 'pandas.core.frame.DataFrame'>\n",
      "Index: 140705 entries, 0 to 147941\n",
      "Columns: 8883 entries, PF00001 to PF20624\n",
      "dtypes: int64(8883)\n",
      "memory usage: 9.3 GB\n"
     ]
    }
   ],
   "source": [
    "pfam_dummies.info()"
   ]
  },
  {
   "cell_type": "code",
   "execution_count": 8,
   "metadata": {},
   "outputs": [
    {
     "name": "stderr",
     "output_type": "stream",
     "text": [
      "Procesando columnas: 100%|██████████| 8883/8883 [00:09<00:00, 972.94it/s] \n"
     ]
    }
   ],
   "source": [
    "for column in tqdm(pfam_dummies.columns, desc=\"Procesando columnas\"):\n",
    "    pfam_dummies[column] = pfam_dummies[column].astype(bool)"
   ]
  },
  {
   "cell_type": "code",
   "execution_count": 9,
   "metadata": {},
   "outputs": [
    {
     "name": "stdout",
     "output_type": "stream",
     "text": [
      "<class 'pandas.core.frame.DataFrame'>\n",
      "Index: 140705 entries, 0 to 147941\n",
      "Columns: 8883 entries, PF00001 to PF20624\n",
      "dtypes: bool(8883)\n",
      "memory usage: 1.2 GB\n"
     ]
    }
   ],
   "source": [
    "pfam_dummies.info()"
   ]
  },
  {
   "cell_type": "code",
   "execution_count": 10,
   "metadata": {},
   "outputs": [
    {
     "name": "stdout",
     "output_type": "stream",
     "text": [
      "<class 'pandas.core.frame.DataFrame'>\n",
      "Index: 140705 entries, 0 to 147941\n",
      "Columns: 8886 entries, accessions to PF20624\n",
      "dtypes: bool(8883), float64(1), object(2)\n",
      "memory usage: 1.2+ GB\n"
     ]
    }
   ],
   "source": [
    "df_pfam = pd.concat([df_pfam, pfam_dummies], axis=1)\n",
    "del pfam_dummies\n",
    "df_pfam.info()"
   ]
  },
  {
   "cell_type": "code",
   "execution_count": 12,
   "metadata": {},
   "outputs": [],
   "source": [
    "df_pfam.drop([\"pfam_ids\", 'accessions'], axis=1, inplace=True)\n",
    "df_pfam.head(1)\n",
    "\n",
    "df_pfam.to_csv(\"df_pfam.csv\", index=False)"
   ]
  },
  {
   "cell_type": "code",
   "execution_count": null,
   "metadata": {},
   "outputs": [],
   "source": []
  }
 ],
 "metadata": {
  "kernelspec": {
   "display_name": "Python 3",
   "language": "python",
   "name": "python3"
  },
  "language_info": {
   "codemirror_mode": {
    "name": "ipython",
    "version": 3
   },
   "file_extension": ".py",
   "mimetype": "text/x-python",
   "name": "python",
   "nbconvert_exporter": "python",
   "pygments_lexer": "ipython3",
   "version": "3.10.12"
  }
 },
 "nbformat": 4,
 "nbformat_minor": 2
}

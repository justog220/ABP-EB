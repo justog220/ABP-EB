{
 "cells": [
  {
   "cell_type": "code",
   "execution_count": 1,
   "metadata": {},
   "outputs": [],
   "source": [
    "import sqlite3\n",
    "import pandas as pd\n",
    "import seaborn as sns\n",
    "import matplotlib.pyplot as plt\n",
    "from tqdm import tqdm\n",
    "\n",
    "conn = sqlite3.connect('../../DB/unknome_db_03_Nov_2023.sqlite')"
   ]
  },
  {
   "cell_type": "code",
   "execution_count": 2,
   "metadata": {},
   "outputs": [
    {
     "name": "stdout",
     "output_type": "stream",
     "text": [
      "<class 'pandas.core.frame.DataFrame'>\n",
      "RangeIndex: 147942 entries, 0 to 147941\n",
      "Data columns (total 5 columns):\n",
      " #   Column        Non-Null Count   Dtype  \n",
      "---  ------        --------------   -----  \n",
      " 0   accessions    147942 non-null  object \n",
      " 1   subcell_locs  92377 non-null   object \n",
      " 2   species       147942 non-null  object \n",
      " 3   pfam_ids      140705 non-null  object \n",
      " 4   knownness     147942 non-null  float64\n",
      "dtypes: float64(1), object(4)\n",
      "memory usage: 5.6+ MB\n"
     ]
    }
   ],
   "source": [
    "data_interes = ['accessions',\n",
    "                'subcell_locs',\n",
    "                'species',\n",
    "                'pfam_ids',\n",
    "                'knownness']\n",
    "\n",
    "select = ''\n",
    "for i in data_interes:\n",
    "    select += i + \", \"\n",
    "select = select[:len(select)-2]\n",
    "\n",
    "\n",
    "consulta  = f\"SELECT {select} FROM Protein WHERE knownness is not null\"\n",
    "\n",
    "df = pd.read_sql_query(consulta, conn)\n",
    "\n",
    "df.info()"
   ]
  },
  {
   "cell_type": "code",
   "execution_count": 3,
   "metadata": {},
   "outputs": [],
   "source": [
    "df_pfam = df[[\"accessions\", \"pfam_ids\", \"knownness\"]].copy()\n",
    "df_pfam.dropna(inplace=True)\n",
    "del df"
   ]
  },
  {
   "cell_type": "code",
   "execution_count": 4,
   "metadata": {},
   "outputs": [
    {
     "data": {
      "text/html": [
       "<div>\n",
       "<style scoped>\n",
       "    .dataframe tbody tr th:only-of-type {\n",
       "        vertical-align: middle;\n",
       "    }\n",
       "\n",
       "    .dataframe tbody tr th {\n",
       "        vertical-align: top;\n",
       "    }\n",
       "\n",
       "    .dataframe thead th {\n",
       "        text-align: right;\n",
       "    }\n",
       "</style>\n",
       "<table border=\"1\" class=\"dataframe\">\n",
       "  <thead>\n",
       "    <tr style=\"text-align: right;\">\n",
       "      <th></th>\n",
       "      <th>accessions</th>\n",
       "      <th>pfam_ids</th>\n",
       "      <th>knownness</th>\n",
       "    </tr>\n",
       "  </thead>\n",
       "  <tbody>\n",
       "    <tr>\n",
       "      <th>0</th>\n",
       "      <td>F4HZG9;F4HZH0;Q8GYQ0;Q9ZPZ5;W6HYK5</td>\n",
       "      <td>PF05195;PF00557</td>\n",
       "      <td>4.0</td>\n",
       "    </tr>\n",
       "    <tr>\n",
       "      <th>1</th>\n",
       "      <td>Q1PDV6;A0MFG6</td>\n",
       "      <td>PF00069</td>\n",
       "      <td>6.4</td>\n",
       "    </tr>\n",
       "    <tr>\n",
       "      <th>2</th>\n",
       "      <td>P56757</td>\n",
       "      <td>PF00006;PF00306;PF02874</td>\n",
       "      <td>2.1</td>\n",
       "    </tr>\n",
       "    <tr>\n",
       "      <th>3</th>\n",
       "      <td>O04567;Q0WPX0</td>\n",
       "      <td>PF13516;PF08263;PF07714</td>\n",
       "      <td>0.0</td>\n",
       "    </tr>\n",
       "    <tr>\n",
       "      <th>4</th>\n",
       "      <td>Q0WRJ7;Q9M222</td>\n",
       "      <td>PF00254</td>\n",
       "      <td>2.4</td>\n",
       "    </tr>\n",
       "    <tr>\n",
       "      <th>...</th>\n",
       "      <td>...</td>\n",
       "      <td>...</td>\n",
       "      <td>...</td>\n",
       "    </tr>\n",
       "    <tr>\n",
       "      <th>147937</th>\n",
       "      <td>Q9USL1</td>\n",
       "      <td>PF08662;PF00400</td>\n",
       "      <td>1.5</td>\n",
       "    </tr>\n",
       "    <tr>\n",
       "      <th>147938</th>\n",
       "      <td>O42653</td>\n",
       "      <td>PF03109</td>\n",
       "      <td>0.5</td>\n",
       "    </tr>\n",
       "    <tr>\n",
       "      <th>147939</th>\n",
       "      <td>Q9HDX3</td>\n",
       "      <td>PF07859</td>\n",
       "      <td>0.0</td>\n",
       "    </tr>\n",
       "    <tr>\n",
       "      <th>147940</th>\n",
       "      <td>Q09839</td>\n",
       "      <td>PF00294</td>\n",
       "      <td>0.5</td>\n",
       "    </tr>\n",
       "    <tr>\n",
       "      <th>147941</th>\n",
       "      <td>Q9P3E3</td>\n",
       "      <td>PF03949</td>\n",
       "      <td>2.0</td>\n",
       "    </tr>\n",
       "  </tbody>\n",
       "</table>\n",
       "<p>140705 rows × 3 columns</p>\n",
       "</div>"
      ],
      "text/plain": [
       "                                accessions                 pfam_ids  knownness\n",
       "0       F4HZG9;F4HZH0;Q8GYQ0;Q9ZPZ5;W6HYK5          PF05195;PF00557        4.0\n",
       "1                            Q1PDV6;A0MFG6                  PF00069        6.4\n",
       "2                                   P56757  PF00006;PF00306;PF02874        2.1\n",
       "3                            O04567;Q0WPX0  PF13516;PF08263;PF07714        0.0\n",
       "4                            Q0WRJ7;Q9M222                  PF00254        2.4\n",
       "...                                    ...                      ...        ...\n",
       "147937                              Q9USL1          PF08662;PF00400        1.5\n",
       "147938                              O42653                  PF03109        0.5\n",
       "147939                              Q9HDX3                  PF07859        0.0\n",
       "147940                              Q09839                  PF00294        0.5\n",
       "147941                              Q9P3E3                  PF03949        2.0\n",
       "\n",
       "[140705 rows x 3 columns]"
      ]
     },
     "execution_count": 4,
     "metadata": {},
     "output_type": "execute_result"
    }
   ],
   "source": [
    "df_pfam"
   ]
  },
  {
   "cell_type": "code",
   "execution_count": 5,
   "metadata": {},
   "outputs": [
    {
     "name": "stdout",
     "output_type": "stream",
     "text": [
      "Estadísticas descriptivas para 'knownness':\n",
      "count    140705.000000\n",
      "mean          3.995404\n",
      "std           7.321352\n",
      "min           0.000000\n",
      "25%           0.500000\n",
      "50%           1.800000\n",
      "75%           4.500000\n",
      "max         214.800000\n",
      "Name: knownness, dtype: float64\n"
     ]
    }
   ],
   "source": [
    "stats_knownness = df_pfam['knownness'].describe()\n",
    "\n",
    "print(\"Estadísticas descriptivas para 'knownness':\")\n",
    "print(stats_knownness)"
   ]
  },
  {
   "cell_type": "code",
   "execution_count": 6,
   "metadata": {},
   "outputs": [
    {
     "data": {
      "image/png": "[encoded data removed]",
      "text/plain": [
       "<Figure size 1000x600 with 1 Axes>"
      ]
     },
     "metadata": {},
     "output_type": "display_data"
    }
   ],
   "source": [
    "import matplotlib.pyplot as plt\n",
    "\n",
    "# Configuración del gráfico\n",
    "plt.figure(figsize=(10, 6))\n",
    "plt.hist(df_pfam['knownness'], bins=30, color='skyblue', edgecolor='black')\n",
    "plt.title('Distribución de Knownness')\n",
    "plt.xlabel('Knownness')\n",
    "plt.ylabel('Frecuencia')\n",
    "plt.grid(True)\n",
    "\n",
    "# Mostrar el histograma\n",
    "plt.show()\n"
   ]
  },
  {
   "cell_type": "code",
   "execution_count": 7,
   "metadata": {},
   "outputs": [
    {
     "name": "stdout",
     "output_type": "stream",
     "text": [
      "Los 10 PFAM IDs más comunes:\n",
      "PF00069    3658\n",
      "PF13853    3130\n",
      "PF00096    2643\n",
      "PF00001    1995\n",
      "PF00076    1709\n",
      "PF00046    1454\n",
      "PF00400    1454\n",
      "PF07714    1326\n",
      "PF07686    1213\n",
      "PF00071    1125\n",
      "Name: count, dtype: int64\n"
     ]
    }
   ],
   "source": [
    "# Dividir las cadenas de PFAM IDs en elementos individuales\n",
    "pfam_ids_split = df_pfam['pfam_ids'].str.split(';')\n",
    "\n",
    "# Crear una lista plana de todos los PFAM IDs\n",
    "all_pfam_ids = [pfam_id for sublist in pfam_ids_split for pfam_id in sublist]\n",
    "\n",
    "# Contar la frecuencia de cada PFAM ID único\n",
    "pfam_id_counts = pd.Series(all_pfam_ids).value_counts()\n",
    "\n",
    "# Mostrar los 10 PFAM IDs más comunes\n",
    "print(\"Los 10 PFAM IDs más comunes:\")\n",
    "print(pfam_id_counts.head(10))"
   ]
  },
  {
   "cell_type": "code",
   "execution_count": 15,
   "metadata": {},
   "outputs": [
    {
     "name": "stdout",
     "output_type": "stream",
     "text": [
      "<class 'pandas.core.series.Series'>\n",
      "Index: 8883 entries, PF00069 to PF04143\n",
      "Series name: count\n",
      "Non-Null Count  Dtype\n",
      "--------------  -----\n",
      "8883 non-null   int64\n",
      "dtypes: int64(1)\n",
      "memory usage: 396.8+ KB\n"
     ]
    }
   ],
   "source": [
    "pfam_id_counts.info()"
   ]
  },
  {
   "cell_type": "code",
   "execution_count": 20,
   "metadata": {},
   "outputs": [
    {
     "name": "stdout",
     "output_type": "stream",
     "text": [
      "<class 'pandas.core.frame.DataFrame'>\n",
      "RangeIndex: 8883 entries, 0 to 8882\n",
      "Data columns (total 2 columns):\n",
      " #   Column    Non-Null Count  Dtype \n",
      "---  ------    --------------  ----- \n",
      " 0   pfam_id   8883 non-null   object\n",
      " 1   pfam_aka  8883 non-null   object\n",
      "dtypes: object(2)\n",
      "memory usage: 138.9+ KB\n"
     ]
    }
   ],
   "source": [
    "archi_esc = open(\"pfam_id_aka2.csv\", \"w\")\n",
    "with open(\"pfam_id_aka.csv\", \"r\") as archi:\n",
    "    for linea in archi:\n",
    "        primera_coma = linea.find(',')\n",
    "        if primera_coma != -1:\n",
    "            archi_esc.write(linea[:primera_coma] + \"$\" + linea[primera_coma+1:])\n",
    "        else:\n",
    "            archi_esc.write(linea)\n",
    "\n",
    "archi_esc.close()\n",
    "\n",
    "df_pfam_akas = pd.read_csv(\"pfam_id_aka2.csv\", sep=\"$\")\n",
    "df_pfam_akas.info()"
   ]
  },
  {
   "cell_type": "code",
   "execution_count": 21,
   "metadata": {},
   "outputs": [
    {
     "name": "stdout",
     "output_type": "stream",
     "text": [
      "Los 10 PFAM IDs más comunes:\n",
      "         count                                      pfam_aka\n",
      "pfam_id                                                     \n",
      "PF00069   3658                         Protein kinase domain\n",
      "PF13853   3130                            Olfactory receptor\n",
      "PF00096   2643                        Zinc finger, C2H2 type\n",
      "PF00001   1995   7 transmembrane receptor (rhodopsin family)\n",
      "PF00076   1709                         RNA recognition motif\n",
      "PF00046   1454                                   Homeodomain\n",
      "PF00400   1454                      WD domain, G-beta repeat\n",
      "PF07714   1326  Protein tyrosine and serine/threonine kinase\n",
      "PF07686   1213                   Immunoglobulin V-set domain\n",
      "PF00071   1125                                    Ras family\n"
     ]
    }
   ],
   "source": [
    "df_merged = pd.merge(pfam_id_counts, df_pfam_akas, left_index=True, right_on='pfam_id', how=\"left\")\n",
    "df_merged.set_index('pfam_id', inplace=True)\n",
    "# Mostrar los 10 PFAM IDs más comunes\n",
    "print(\"Los 10 PFAM IDs más comunes:\")\n",
    "print(df_merged.head(10))\n"
   ]
  },
  {
   "cell_type": "code",
   "execution_count": 9,
   "metadata": {},
   "outputs": [],
   "source": [
    "import requests\n",
    "\n",
    "def get_pfam_aka(pfam_id):\n",
    "    url = f\"https://www.ebi.ac.uk/interpro/api/entry/pfam/{pfam_id}/\"\n",
    "\n",
    "    payload = {}\n",
    "    headers = {}\n",
    "\n",
    "    response = requests.request(\"GET\", url, headers=headers, data=payload)\n",
    "\n",
    "    json_data = response.json()\n",
    "    if response.status_code == 200:\n",
    "        if \"metadata\" in json_data:\n",
    "            if \"name\" in json_data[\"metadata\"]:\n",
    "                if \"name\" in json_data[\"metadata\"][\"name\"]:\n",
    "                    return json_data[\"metadata\"][\"name\"][\"name\"]\n",
    "                \n",
    "        return \"NaN\"\n",
    "    return \"404\""
   ]
  },
  {
   "cell_type": "code",
   "execution_count": 15,
   "metadata": {},
   "outputs": [],
   "source": [
    "pfam_ids_unique = list(set(all_pfam_ids))"
   ]
  },
  {
   "cell_type": "code",
   "execution_count": 16,
   "metadata": {},
   "outputs": [
    {
     "name": "stderr",
     "output_type": "stream",
     "text": [
      "Retrieving PFAM name: 100%|██████████| 8883/8883 [20:14<00:00,  7.31it/s]\n"
     ]
    }
   ],
   "source": [
    "# from tqdm import tqdm\n",
    "# from concurrent.futures import ThreadPoolExecutor, as_completed\n",
    "\n",
    "\n",
    "# results = []\n",
    "# archi = open(\"pfam_id_aka.csv\", \"w\")\n",
    "\n",
    "# def procesar_resultado(result):\n",
    "#     pfam_id, nombre = result\n",
    "#     if nombre:\n",
    "#         archi.write(f\"{pfam_id},{nombre}\\n\")\n",
    "\n",
    "# with ThreadPoolExecutor(max_workers=11) as executor:\n",
    "#     futures = {executor.submit(get_pfam_aka, pfam_id): pfam_id for pfam_id in pfam_ids_unique}\n",
    "#     for future in tqdm(as_completed(futures), total=len(futures), desc=\"Retrieving PFAM name\"):\n",
    "#         pfam_id = futures[future]\n",
    "#         try:\n",
    "#             result = future.result()\n",
    "#             results.append((pfam_id, result))\n",
    "#         except Exception as e:\n",
    "#             results.append((pfam_id, None))\n",
    "\n",
    "# archi.write(\"pfam_id,pfam_aka\")\n",
    "# for result in results:\n",
    "#     procesar_resultado(result)\n",
    "# archi.close()"
   ]
  },
  {
   "cell_type": "code",
   "execution_count": null,
   "metadata": {},
   "outputs": [],
   "source": []
  }
 ],
 "metadata": {
  "kernelspec": {
   "display_name": "Python 3",
   "language": "python",
   "name": "python3"
  },
  "language_info": {
   "codemirror_mode": {
    "name": "ipython",
    "version": 3
   },
   "file_extension": ".py",
   "mimetype": "text/x-python",
   "name": "python",
   "nbconvert_exporter": "python",
   "pygments_lexer": "ipython3",
   "version": "3.10.12"
  }
 },
 "nbformat": 4,
 "nbformat_minor": 2
}

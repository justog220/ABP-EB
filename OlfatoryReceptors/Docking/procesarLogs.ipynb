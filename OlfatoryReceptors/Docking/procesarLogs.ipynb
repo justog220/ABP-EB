{
 "cells": [
  {
   "cell_type": "code",
   "execution_count": 15,
   "metadata": {},
   "outputs": [
    {
     "data": {
      "application/vnd.plotly.v1+json": {
       "config": {
        "plotlyServerURL": "https://plot.ly"
       },
       "data": [
        {
         "alignmentgroup": "True",
         "customdata": [
          [
           "Heptanal"
          ],
          [
           "methylhexanoate"
          ],
          [
           "2-nonanlol"
          ],
          [
           "hexylacetate"
          ],
          [
           "E-2-hexenylacetate"
          ],
          [
           "Thiazole"
          ],
          [
           "butylanthralite"
          ],
          [
           "2-isobutyl3-methoxypyrazine"
          ],
          [
           "Cinnamaldehyde"
          ],
          [
           "Geraniol"
          ],
          [
           "Ethyl-vanillin"
          ],
          [
           "Beta-ionone"
          ],
          [
           "hexanoicacid"
          ],
          [
           "3-hydroxybutan-2-one"
          ],
          [
           "1-dodecanol"
          ],
          [
           "Phenylmethanol"
          ],
          [
           "Quinolin"
          ],
          [
           "Butanal"
          ],
          [
           "methylheptanoate"
          ],
          [
           "isoamylacetate"
          ],
          [
           "Cineol"
          ],
          [
           "Cyclohexanone"
          ],
          [
           "butylbutyrate"
          ],
          [
           "butyricacid"
          ],
          [
           "Cumarin"
          ],
          [
           "Estragol"
          ],
          [
           "1-nonanol"
          ],
          [
           "Vanillin"
          ],
          [
           "Diacetyl-C.elegans-"
          ],
          [
           "ethyl-3-hydroxybutyrate"
          ],
          [
           "Benzaldehyde"
          ],
          [
           "Acetaldehyde"
          ],
          [
           "propionicacid"
          ],
          [
           "Menthone"
          ],
          [
           "isobutyricacid"
          ],
          [
           "4-octanol"
          ],
          [
           "ethyldecanoate"
          ],
          [
           "heptanoicacid"
          ],
          [
           "DEET"
          ],
          [
           "ethylpropionate"
          ],
          [
           "Octanal"
          ],
          [
           "Hexanal"
          ],
          [
           "octanoicacid"
          ],
          [
           "Maltol"
          ],
          [
           "methylbutyrate"
          ],
          [
           "Citralva"
          ],
          [
           "Eucalypton"
          ],
          [
           "Linalool"
          ],
          [
           "Lyral"
          ],
          [
           "diethylsuccinate"
          ],
          [
           "ethylanthralite"
          ],
          [
           "Menthol"
          ],
          [
           "ethylisobutyrate"
          ],
          [
           "Trans-cinnamicacid"
          ],
          [
           "1-octen-3-ol"
          ],
          [
           "Α-terpineol"
          ],
          [
           "Anisol"
          ],
          [
           "Dodecanal"
          ],
          [
           "dodecanoicacid"
          ],
          [
           "Isobutylacetate"
          ],
          [
           "Safrol"
          ],
          [
           "ethylbutyrate"
          ],
          [
           "Pentanal"
          ],
          [
           "Pyridine"
          ],
          [
           "geranylacetate"
          ],
          [
           "6-methyl-5-hepten-2-one"
          ],
          [
           "Trans-anethol"
          ],
          [
           "Gvaiacol"
          ],
          [
           "methylsalicylate"
          ],
          [
           "3-octanone"
          ],
          [
           "propylacetate"
          ],
          [
           "Limonene"
          ],
          [
           "2-nonanone"
          ],
          [
           "butylacetate"
          ],
          [
           "Benzothiazol"
          ],
          [
           "ethyloctanoate"
          ],
          [
           "decanoicacid"
          ],
          [
           "1-heptanol"
          ],
          [
           "pentylacetate"
          ],
          [
           "2-dodecanone"
          ],
          [
           "2-pentanone"
          ],
          [
           "eugenol-M.musculus-"
          ],
          [
           "3-methylbutanol"
          ],
          [
           "Acetophenone"
          ],
          [
           "ethylnonanoate"
          ],
          [
           "2-ethyl1-hexanol"
          ],
          [
           "Undecanal"
          ],
          [
           "3-nonanone"
          ],
          [
           "Hedione"
          ],
          [
           "Citral"
          ],
          [
           "-Citronellal"
          ],
          [
           "Gamma-decalactone"
          ],
          [
           "Γ-hexalactone"
          ],
          [
           "Para-anisaldehyde"
          ],
          [
           "Beta-thujone"
          ],
          [
           "dimethyldisulﬁde"
          ],
          [
           "ethylhexanoate"
          ],
          [
           "z-2-hexenol"
          ],
          [
           "isovalericacid"
          ],
          [
           "2-isobutyl-3-methoxypyrazine"
          ],
          [
           "methyloctanoate"
          ],
          [
           "2-sec-butyl-3-methoxypyrazine"
          ],
          [
           "methyldecanoate"
          ],
          [
           "2-decanone"
          ],
          [
           "2-methylpyrazine"
          ],
          [
           "3-octanol"
          ],
          [
           "1-pentanol"
          ],
          [
           "ethylchrysanthemate"
          ],
          [
           "1-hexanol"
          ],
          [
           "+Citronellal"
          ],
          [
           "methylN,N,-dimethylanthranilite"
          ],
          [
           "Indole"
          ],
          [
           "Pyrazine"
          ],
          [
           "ethylheptanoate"
          ],
          [
           "2-heptanone"
          ],
          [
           "1-butanol"
          ],
          [
           "1-decanol"
          ],
          [
           "Alpha-thujone"
          ],
          [
           "ethyl-trans-2-butenoate"
          ],
          [
           "2-pentanol"
          ],
          [
           "Picaridin"
          ],
          [
           "Decanal"
          ],
          [
           "Allyl-ionoe"
          ],
          [
           "2-octanol"
          ],
          [
           "1-octanol"
          ],
          [
           "Helional-phenobarbital-"
          ],
          [
           "methylp-tert-butylphenylacetate"
          ],
          [
           "Camphor"
          ],
          [
           "methylnonanoate"
          ],
          [
           "nonanoicacid"
          ],
          [
           "3-methyl-2-buten-1-ol"
          ],
          [
           "2-octanone"
          ],
          [
           "Thymol"
          ],
          [
           "Nonanal"
          ],
          [
           "piperonylacetone"
          ]
         ],
         "hovertemplate": "Receptor=Q7TR84<br>Tipo=%{x}<br>Afinidad=%{y}<br>Ligando=%{customdata[0]}<extra></extra>",
         "legendgroup": "Q7TR84",
         "marker": {
          "color": "#636efa"
         },
         "name": "Q7TR84",
         "notched": false,
         "offsetgroup": "Q7TR84",
         "orientation": "v",
         "quartilemethod": "inclusive",
         "showlegend": true,
         "type": "box",
         "x": [
          "ALDEHYDES",
          "ESTERS",
          "ALCOHOLS",
          "INSECT ODORS",
          "INSECT ODORS",
          "SULPHOREOUS",
          "Repellents",
          "Repellents",
          "ALDEHYDES",
          "ALCOHOLS",
          "ALDEHYDES",
          "KETONES",
          "ACIDS",
          "KETONES",
          "ALCOHOLS",
          "ALCOHOLS",
          "OTHERS",
          "INSECT ODORS",
          "ESTERS",
          "ESTERS",
          "OTHERS",
          "KETONES",
          "ESTERS",
          "ACIDS",
          "LACTONES",
          "OTHERS",
          "ALCOHOLS",
          "ALDEHYDES",
          "Odorants speciﬁc to organisms",
          "INSECT ODORS",
          "ALDEHYDES",
          "INSECT ODORS",
          "ACIDS",
          "KETONES",
          "ACIDS",
          "ALCOHOLS",
          "ESTERS",
          "ACIDS",
          "Repellents",
          "INSECT ODORS",
          "ALDEHYDES",
          "ALDEHYDES",
          "ACIDS",
          "ALCOHOLS",
          "INSECT ODORS",
          "OTHERS",
          "Repellents",
          "INSECT ODORS",
          "ALDEHYDES",
          "INSECT ODORS",
          "Repellents",
          "ALCOHOLS",
          "ESTERS",
          "ACIDS",
          "INSECT ODORS",
          "INSECT ODORS",
          "OTHERS",
          "ALDEHYDES",
          "ACIDS",
          "INSECT ODORS",
          "OTHERS",
          "ESTERS",
          "INSECT ODORS",
          "OTHERS",
          "ESTERS",
          "KETONES",
          "OTHERS",
          "ALCOHOLS",
          "ESTERS",
          "KETONES",
          "INSECT ODORS",
          "OTHERS",
          "KETONES",
          "INSECT ODORS",
          "SULPHOREOUS",
          "ESTERS",
          "ACIDS",
          "ALCOHOLS",
          "INSECT ODORS",
          "KETONES",
          "INSECT ODORS",
          "Odorants speciﬁc to organisms",
          "INSECT ODORS",
          "KETONES",
          "ESTERS",
          "ALCOHOLS",
          "ALDEHYDES",
          "KETONES",
          "KETONES",
          "ALDEHYDES",
          "ALDEHYDES",
          "LACTONES",
          "INSECT ODORS",
          "ALDEHYDES",
          "Repellents",
          "SULPHOREOUS",
          "ESTERS",
          "INSECT ODORS",
          "ACIDS",
          "ACIDS",
          "ESTERS",
          "Repellents",
          "ESTERS",
          "KETONES",
          "ACIDS",
          "ALCOHOLS",
          "INSECT ODORS",
          "Repellents",
          "ALCOHOLS",
          "ALDEHYDES",
          "Repellents",
          "OTHERS",
          "ACIDS",
          "ESTERS",
          "KETONES",
          "INSECT ODORS",
          "ALCOHOLS",
          "Repellents",
          "INSECT ODORS",
          "INSECT ODORS",
          "Repellents",
          "ALDEHYDES",
          "Repellents",
          "ALCOHOLS",
          "ALCOHOLS",
          "ALDEHYDES",
          "Repellents",
          "KETONES",
          "ESTERS",
          "ACIDS",
          "INSECT ODORS",
          "KETONES",
          "ALCOHOLS",
          "ALDEHYDES",
          "KETONES"
         ],
         "x0": " ",
         "xaxis": "x",
         "y": [
          -4.027,
          -4.108,
          -4.398,
          -4.435,
          -4.545,
          -2.871,
          -5.568,
          -4.93,
          -5.446,
          -5.19,
          -5.03,
          -5.602,
          -4.324,
          -3.603,
          -5.137,
          -4.877,
          -6.038,
          -3.142,
          -4.274,
          -4.312,
          -5.134,
          -4.603,
          -4.089,
          -3.459,
          -6.418,
          -5.405,
          -4.314,
          -5.017,
          -3.622,
          -4.194,
          -4.815,
          -2.716,
          -3.227,
          -5.482,
          -3.648,
          -4.314,
          -4.619,
          -4.277,
          -5.717,
          -3.353,
          -4.32,
          -3.907,
          -4.395,
          -4.624,
          -3.532,
          -4.651,
          -5.651,
          -5.094,
          -5.636,
          -4.348,
          -5.263,
          -4.938,
          -3.914,
          -5.666,
          -4.436,
          -5.218,
          -4.641,
          -4.927,
          -4.864,
          -3.826,
          -6.204,
          -3.631,
          -3.528,
          -3.91,
          -5.16,
          -4.565,
          -5.54,
          -4.762,
          -5.221,
          -4.372,
          -3.567,
          -5.444,
          -4.655,
          -3.933,
          -5.403,
          -4.62,
          -4.901,
          -4.736,
          -4.115,
          -5.072,
          -3.555,
          -5.571,
          -3.582,
          -5.202,
          -4.652,
          -4.093,
          -4.669,
          -4.317,
          -5.159,
          -4.698,
          -5.082,
          -5.223,
          -4.317,
          -4.93,
          -5.342,
          -2.105,
          -4.194,
          -4.582,
          -3.859,
          -4.682,
          -4.603,
          -4.783,
          -5.052,
          -4.638,
          -3.733,
          -4.359,
          -3.521,
          -5.325,
          -3.928,
          -4.576,
          -4.644,
          -5.617,
          -3.232,
          -4.725,
          -4.145,
          -3.136,
          -4.603,
          -5.511,
          -3.649,
          -3.519,
          -5.541,
          -5.01,
          -6.109,
          -4.304,
          -4.504,
          -5.878,
          -5.728,
          -4.751,
          -4.714,
          -4.906,
          -3.767,
          -4.251,
          -4.846,
          -4.327,
          -5.121
         ],
         "y0": " ",
         "yaxis": "y"
        },
        {
         "alignmentgroup": "True",
         "customdata": [
          [
           "Heptanal"
          ],
          [
           "methylhexanoate"
          ],
          [
           "2-nonanlol"
          ],
          [
           "hexylacetate"
          ],
          [
           "E-2-hexenylacetate"
          ],
          [
           "Thiazole"
          ],
          [
           "butylanthralite"
          ],
          [
           "2-isobutyl3-methoxypyrazine"
          ],
          [
           "Cinnamaldehyde"
          ],
          [
           "Geraniol"
          ],
          [
           "Ethyl-vanillin"
          ],
          [
           "Beta-ionone"
          ],
          [
           "hexanoicacid"
          ],
          [
           "3-hydroxybutan-2-one"
          ],
          [
           "1-dodecanol"
          ],
          [
           "Phenylmethanol"
          ],
          [
           "Quinolin"
          ],
          [
           "Butanal"
          ],
          [
           "methylheptanoate"
          ],
          [
           "isoamylacetate"
          ],
          [
           "Cineol"
          ],
          [
           "Cyclohexanone"
          ],
          [
           "butylbutyrate"
          ],
          [
           "butyricacid"
          ],
          [
           "Cumarin"
          ],
          [
           "Estragol"
          ],
          [
           "1-nonanol"
          ],
          [
           "Vanillin"
          ],
          [
           "Diacetyl-C.elegans-"
          ],
          [
           "ethyl-3-hydroxybutyrate"
          ],
          [
           "Benzaldehyde"
          ],
          [
           "Acetaldehyde"
          ],
          [
           "propionicacid"
          ],
          [
           "Menthone"
          ],
          [
           "isobutyricacid"
          ],
          [
           "4-octanol"
          ],
          [
           "ethyldecanoate"
          ],
          [
           "heptanoicacid"
          ],
          [
           "DEET"
          ],
          [
           "ethylpropionate"
          ],
          [
           "Octanal"
          ],
          [
           "Hexanal"
          ],
          [
           "octanoicacid"
          ],
          [
           "Maltol"
          ],
          [
           "methylbutyrate"
          ],
          [
           "Citralva"
          ],
          [
           "Eucalypton"
          ],
          [
           "Linalool"
          ],
          [
           "Lyral"
          ],
          [
           "diethylsuccinate"
          ],
          [
           "ethylanthralite"
          ],
          [
           "Menthol"
          ],
          [
           "ethylisobutyrate"
          ],
          [
           "Trans-cinnamicacid"
          ],
          [
           "1-octen-3-ol"
          ],
          [
           "Α-terpineol"
          ],
          [
           "Anisol"
          ],
          [
           "Dodecanal"
          ],
          [
           "dodecanoicacid"
          ],
          [
           "Isobutylacetate"
          ],
          [
           "Safrol"
          ],
          [
           "ethylbutyrate"
          ],
          [
           "Pentanal"
          ],
          [
           "Pyridine"
          ],
          [
           "geranylacetate"
          ],
          [
           "6-methyl-5-hepten-2-one"
          ],
          [
           "Trans-anethol"
          ],
          [
           "Gvaiacol"
          ],
          [
           "methylsalicylate"
          ],
          [
           "3-octanone"
          ],
          [
           "propylacetate"
          ],
          [
           "Limonene"
          ],
          [
           "2-nonanone"
          ],
          [
           "butylacetate"
          ],
          [
           "Benzothiazol"
          ],
          [
           "ethyloctanoate"
          ],
          [
           "decanoicacid"
          ],
          [
           "1-heptanol"
          ],
          [
           "pentylacetate"
          ],
          [
           "2-dodecanone"
          ],
          [
           "2-pentanone"
          ],
          [
           "eugenol-M.musculus-"
          ],
          [
           "3-methylbutanol"
          ],
          [
           "Acetophenone"
          ],
          [
           "ethylnonanoate"
          ],
          [
           "2-ethyl1-hexanol"
          ],
          [
           "Undecanal"
          ],
          [
           "3-nonanone"
          ],
          [
           "Hedione"
          ],
          [
           "Citral"
          ],
          [
           "-Citronellal"
          ],
          [
           "Gamma-decalactone"
          ],
          [
           "Γ-hexalactone"
          ],
          [
           "Para-anisaldehyde"
          ],
          [
           "Beta-thujone"
          ],
          [
           "dimethyldisulﬁde"
          ],
          [
           "ethylhexanoate"
          ],
          [
           "z-2-hexenol"
          ],
          [
           "isovalericacid"
          ],
          [
           "2-isobutyl-3-methoxypyrazine"
          ],
          [
           "methyloctanoate"
          ],
          [
           "2-sec-butyl-3-methoxypyrazine"
          ],
          [
           "methyldecanoate"
          ],
          [
           "2-decanone"
          ],
          [
           "2-methylpyrazine"
          ],
          [
           "3-octanol"
          ],
          [
           "1-pentanol"
          ],
          [
           "ethylchrysanthemate"
          ],
          [
           "1-hexanol"
          ],
          [
           "+Citronellal"
          ],
          [
           "methylN,N,-dimethylanthranilite"
          ],
          [
           "Indole"
          ],
          [
           "Pyrazine"
          ],
          [
           "ethylheptanoate"
          ],
          [
           "2-heptanone"
          ],
          [
           "1-butanol"
          ],
          [
           "1-decanol"
          ],
          [
           "Alpha-thujone"
          ],
          [
           "ethyl-trans-2-butenoate"
          ],
          [
           "2-pentanol"
          ],
          [
           "Picaridin"
          ],
          [
           "Decanal"
          ],
          [
           "Allyl-ionoe"
          ],
          [
           "2-octanol"
          ],
          [
           "1-octanol"
          ],
          [
           "Helional-phenobarbital-"
          ],
          [
           "methylp-tert-butylphenylacetate"
          ],
          [
           "Camphor"
          ],
          [
           "methylnonanoate"
          ],
          [
           "nonanoicacid"
          ],
          [
           "3-methyl-2-buten-1-ol"
          ],
          [
           "2-octanone"
          ],
          [
           "Thymol"
          ],
          [
           "Nonanal"
          ],
          [
           "piperonylacetone"
          ]
         ],
         "hovertemplate": "Receptor=Q7TR55<br>Tipo=%{x}<br>Afinidad=%{y}<br>Ligando=%{customdata[0]}<extra></extra>",
         "legendgroup": "Q7TR55",
         "marker": {
          "color": "#EF553B"
         },
         "name": "Q7TR55",
         "notched": false,
         "offsetgroup": "Q7TR55",
         "orientation": "v",
         "quartilemethod": "inclusive",
         "showlegend": true,
         "type": "box",
         "x": [
          "ALDEHYDES",
          "ESTERS",
          "ALCOHOLS",
          "INSECT ODORS",
          "INSECT ODORS",
          "SULPHOREOUS",
          "Repellents",
          "Repellents",
          "ALDEHYDES",
          "ALCOHOLS",
          "ALDEHYDES",
          "KETONES",
          "ACIDS",
          "KETONES",
          "ALCOHOLS",
          "ALCOHOLS",
          "OTHERS",
          "INSECT ODORS",
          "ESTERS",
          "ESTERS",
          "OTHERS",
          "KETONES",
          "ESTERS",
          "ACIDS",
          "LACTONES",
          "OTHERS",
          "ALCOHOLS",
          "ALDEHYDES",
          "Odorants speciﬁc to organisms",
          "INSECT ODORS",
          "ALDEHYDES",
          "INSECT ODORS",
          "ACIDS",
          "KETONES",
          "ACIDS",
          "ALCOHOLS",
          "ESTERS",
          "ACIDS",
          "Repellents",
          "INSECT ODORS",
          "ALDEHYDES",
          "ALDEHYDES",
          "ACIDS",
          "ALCOHOLS",
          "INSECT ODORS",
          "OTHERS",
          "Repellents",
          "INSECT ODORS",
          "ALDEHYDES",
          "INSECT ODORS",
          "Repellents",
          "ALCOHOLS",
          "ESTERS",
          "ACIDS",
          "INSECT ODORS",
          "INSECT ODORS",
          "OTHERS",
          "ALDEHYDES",
          "ACIDS",
          "INSECT ODORS",
          "OTHERS",
          "ESTERS",
          "INSECT ODORS",
          "OTHERS",
          "ESTERS",
          "KETONES",
          "OTHERS",
          "ALCOHOLS",
          "ESTERS",
          "KETONES",
          "INSECT ODORS",
          "OTHERS",
          "KETONES",
          "INSECT ODORS",
          "SULPHOREOUS",
          "ESTERS",
          "ACIDS",
          "ALCOHOLS",
          "INSECT ODORS",
          "KETONES",
          "INSECT ODORS",
          "Odorants speciﬁc to organisms",
          "INSECT ODORS",
          "KETONES",
          "ESTERS",
          "ALCOHOLS",
          "ALDEHYDES",
          "KETONES",
          "KETONES",
          "ALDEHYDES",
          "ALDEHYDES",
          "LACTONES",
          "INSECT ODORS",
          "ALDEHYDES",
          "Repellents",
          "SULPHOREOUS",
          "ESTERS",
          "INSECT ODORS",
          "ACIDS",
          "ACIDS",
          "ESTERS",
          "Repellents",
          "ESTERS",
          "KETONES",
          "ACIDS",
          "ALCOHOLS",
          "INSECT ODORS",
          "Repellents",
          "ALCOHOLS",
          "ALDEHYDES",
          "Repellents",
          "OTHERS",
          "ACIDS",
          "ESTERS",
          "KETONES",
          "INSECT ODORS",
          "ALCOHOLS",
          "Repellents",
          "INSECT ODORS",
          "INSECT ODORS",
          "Repellents",
          "ALDEHYDES",
          "Repellents",
          "ALCOHOLS",
          "ALCOHOLS",
          "ALDEHYDES",
          "Repellents",
          "KETONES",
          "ESTERS",
          "ACIDS",
          "INSECT ODORS",
          "KETONES",
          "ALCOHOLS",
          "ALDEHYDES",
          "KETONES"
         ],
         "x0": " ",
         "xaxis": "x",
         "y": [
          -4.053,
          -3.903,
          -4.426,
          -4.264,
          -4.212,
          -2.608,
          -6.137,
          -4.502,
          -5.417,
          -5.08,
          -4.949,
          -5.294,
          -4.529,
          -3.245,
          -4.547,
          -4.917,
          -5.472,
          -3.193,
          -4.194,
          -4.318,
          -5.055,
          -4.214,
          -4.177,
          -3.441,
          -5.843,
          -5.224,
          -4.448,
          -4.728,
          -3.205,
          -3.478,
          -4.798,
          -2.099,
          -3.125,
          -4.459,
          -3.633,
          -4.314,
          -4.659,
          -4.593,
          -5.634,
          -3.37,
          -4.243,
          -3.539,
          -4.246,
          -4.286,
          -3.752,
          -5.259,
          -5.854,
          -5.083,
          -5.502,
          -4.369,
          -5.111,
          -5.254,
          -3.852,
          -5.761,
          -4.383,
          -5.236,
          -4.468,
          -4.813,
          -4.643,
          -3.895,
          -5.268,
          -3.925,
          -3.462,
          -3.866,
          -5.125,
          -4.037,
          -5.584,
          -4.568,
          -5.071,
          -4.301,
          -3.736,
          -5.531,
          -4.308,
          -4.024,
          -4.431,
          -4.531,
          -4.752,
          -4.411,
          -3.899,
          -4.948,
          -3.555,
          -5.393,
          -3.857,
          -5.205,
          -4.494,
          -4.274,
          -4.659,
          -4.382,
          -4.745,
          -5.103,
          -4.687,
          -4.925,
          -4.227,
          -4.339,
          -4.702,
          -1.838,
          -4.071,
          -4.419,
          -4.25,
          -4.266,
          -4.301,
          -4.147,
          -4.684,
          -4.78,
          -3.426,
          -4.217,
          -3.669,
          -4.83,
          -4.041,
          -4.456,
          -4.531,
          -5.511,
          -3.046,
          -4.368,
          -4.03,
          -3.356,
          -4.322,
          -4.838,
          -3.535,
          -3.63,
          -4.906,
          -4.371,
          -5.657,
          -4.056,
          -4.5,
          -5.713,
          -5.593,
          -4.936,
          -4.118,
          -4.5,
          -3.812,
          -4.069,
          -5.598,
          -4.346,
          -5.477
         ],
         "y0": " ",
         "yaxis": "y"
        },
        {
         "alignmentgroup": "True",
         "customdata": [
          [
           "Heptanal"
          ],
          [
           "methylhexanoate"
          ],
          [
           "2-nonanlol"
          ],
          [
           "hexylacetate"
          ],
          [
           "E-2-hexenylacetate"
          ],
          [
           "Thiazole"
          ],
          [
           "butylanthralite"
          ],
          [
           "2-isobutyl3-methoxypyrazine"
          ],
          [
           "Cinnamaldehyde"
          ],
          [
           "Geraniol"
          ],
          [
           "Ethyl-vanillin"
          ],
          [
           "Beta-ionone"
          ],
          [
           "hexanoicacid"
          ],
          [
           "3-hydroxybutan-2-one"
          ],
          [
           "1-dodecanol"
          ],
          [
           "Phenylmethanol"
          ],
          [
           "Quinolin"
          ],
          [
           "Butanal"
          ],
          [
           "methylheptanoate"
          ],
          [
           "isoamylacetate"
          ],
          [
           "Cineol"
          ],
          [
           "Cyclohexanone"
          ],
          [
           "butylbutyrate"
          ],
          [
           "butyricacid"
          ],
          [
           "Cumarin"
          ],
          [
           "Estragol"
          ],
          [
           "1-nonanol"
          ],
          [
           "Vanillin"
          ],
          [
           "Diacetyl-C.elegans-"
          ],
          [
           "ethyl-3-hydroxybutyrate"
          ],
          [
           "Benzaldehyde"
          ],
          [
           "Acetaldehyde"
          ],
          [
           "propionicacid"
          ],
          [
           "Menthone"
          ],
          [
           "isobutyricacid"
          ],
          [
           "4-octanol"
          ],
          [
           "ethyldecanoate"
          ],
          [
           "heptanoicacid"
          ],
          [
           "DEET"
          ],
          [
           "ethylpropionate"
          ],
          [
           "Octanal"
          ],
          [
           "Hexanal"
          ],
          [
           "octanoicacid"
          ],
          [
           "Maltol"
          ],
          [
           "methylbutyrate"
          ],
          [
           "Citralva"
          ],
          [
           "Eucalypton"
          ],
          [
           "Linalool"
          ],
          [
           "Lyral"
          ],
          [
           "diethylsuccinate"
          ],
          [
           "ethylanthralite"
          ],
          [
           "Menthol"
          ],
          [
           "ethylisobutyrate"
          ],
          [
           "Trans-cinnamicacid"
          ],
          [
           "1-octen-3-ol"
          ],
          [
           "Α-terpineol"
          ],
          [
           "Anisol"
          ],
          [
           "Dodecanal"
          ],
          [
           "dodecanoicacid"
          ],
          [
           "Isobutylacetate"
          ],
          [
           "Safrol"
          ],
          [
           "ethylbutyrate"
          ],
          [
           "Pentanal"
          ],
          [
           "Pyridine"
          ],
          [
           "geranylacetate"
          ],
          [
           "6-methyl-5-hepten-2-one"
          ],
          [
           "Trans-anethol"
          ],
          [
           "Gvaiacol"
          ],
          [
           "methylsalicylate"
          ],
          [
           "3-octanone"
          ],
          [
           "propylacetate"
          ],
          [
           "Limonene"
          ],
          [
           "2-nonanone"
          ],
          [
           "butylacetate"
          ],
          [
           "Benzothiazol"
          ],
          [
           "ethyloctanoate"
          ],
          [
           "decanoicacid"
          ],
          [
           "1-heptanol"
          ],
          [
           "pentylacetate"
          ],
          [
           "2-dodecanone"
          ],
          [
           "2-pentanone"
          ],
          [
           "eugenol-M.musculus-"
          ],
          [
           "3-methylbutanol"
          ],
          [
           "Acetophenone"
          ],
          [
           "ethylnonanoate"
          ],
          [
           "2-ethyl1-hexanol"
          ],
          [
           "Undecanal"
          ],
          [
           "3-nonanone"
          ],
          [
           "Hedione"
          ],
          [
           "Citral"
          ],
          [
           "-Citronellal"
          ],
          [
           "Gamma-decalactone"
          ],
          [
           "Γ-hexalactone"
          ],
          [
           "Para-anisaldehyde"
          ],
          [
           "Beta-thujone"
          ],
          [
           "dimethyldisulﬁde"
          ],
          [
           "ethylhexanoate"
          ],
          [
           "z-2-hexenol"
          ],
          [
           "isovalericacid"
          ],
          [
           "2-isobutyl-3-methoxypyrazine"
          ],
          [
           "methyloctanoate"
          ],
          [
           "2-sec-butyl-3-methoxypyrazine"
          ],
          [
           "methyldecanoate"
          ],
          [
           "2-decanone"
          ],
          [
           "2-methylpyrazine"
          ],
          [
           "3-octanol"
          ],
          [
           "1-pentanol"
          ],
          [
           "ethylchrysanthemate"
          ],
          [
           "1-hexanol"
          ],
          [
           "+Citronellal"
          ],
          [
           "methylN,N,-dimethylanthranilite"
          ],
          [
           "Indole"
          ],
          [
           "Pyrazine"
          ],
          [
           "ethylheptanoate"
          ],
          [
           "2-heptanone"
          ],
          [
           "1-butanol"
          ],
          [
           "1-decanol"
          ],
          [
           "Alpha-thujone"
          ],
          [
           "ethyl-trans-2-butenoate"
          ],
          [
           "2-pentanol"
          ],
          [
           "Picaridin"
          ],
          [
           "Decanal"
          ],
          [
           "Allyl-ionoe"
          ],
          [
           "2-octanol"
          ],
          [
           "1-octanol"
          ],
          [
           "Helional-phenobarbital-"
          ],
          [
           "methylp-tert-butylphenylacetate"
          ],
          [
           "Camphor"
          ],
          [
           "methylnonanoate"
          ],
          [
           "nonanoicacid"
          ],
          [
           "3-methyl-2-buten-1-ol"
          ],
          [
           "2-octanone"
          ],
          [
           "Thymol"
          ],
          [
           "Nonanal"
          ],
          [
           "piperonylacetone"
          ]
         ],
         "hovertemplate": "Receptor=Q2PRI9<br>Tipo=%{x}<br>Afinidad=%{y}<br>Ligando=%{customdata[0]}<extra></extra>",
         "legendgroup": "Q2PRI9",
         "marker": {
          "color": "#00cc96"
         },
         "name": "Q2PRI9",
         "notched": false,
         "offsetgroup": "Q2PRI9",
         "orientation": "v",
         "quartilemethod": "inclusive",
         "showlegend": true,
         "type": "box",
         "x": [
          "ALDEHYDES",
          "ESTERS",
          "ALCOHOLS",
          "INSECT ODORS",
          "INSECT ODORS",
          "SULPHOREOUS",
          "Repellents",
          "Repellents",
          "ALDEHYDES",
          "ALCOHOLS",
          "ALDEHYDES",
          "KETONES",
          "ACIDS",
          "KETONES",
          "ALCOHOLS",
          "ALCOHOLS",
          "OTHERS",
          "INSECT ODORS",
          "ESTERS",
          "ESTERS",
          "OTHERS",
          "KETONES",
          "ESTERS",
          "ACIDS",
          "LACTONES",
          "OTHERS",
          "ALCOHOLS",
          "ALDEHYDES",
          "Odorants speciﬁc to organisms",
          "INSECT ODORS",
          "ALDEHYDES",
          "INSECT ODORS",
          "ACIDS",
          "KETONES",
          "ACIDS",
          "ALCOHOLS",
          "ESTERS",
          "ACIDS",
          "Repellents",
          "INSECT ODORS",
          "ALDEHYDES",
          "ALDEHYDES",
          "ACIDS",
          "ALCOHOLS",
          "INSECT ODORS",
          "OTHERS",
          "Repellents",
          "INSECT ODORS",
          "ALDEHYDES",
          "INSECT ODORS",
          "Repellents",
          "ALCOHOLS",
          "ESTERS",
          "ACIDS",
          "INSECT ODORS",
          "INSECT ODORS",
          "OTHERS",
          "ALDEHYDES",
          "ACIDS",
          "INSECT ODORS",
          "OTHERS",
          "ESTERS",
          "INSECT ODORS",
          "OTHERS",
          "ESTERS",
          "KETONES",
          "OTHERS",
          "ALCOHOLS",
          "ESTERS",
          "KETONES",
          "INSECT ODORS",
          "OTHERS",
          "KETONES",
          "INSECT ODORS",
          "SULPHOREOUS",
          "ESTERS",
          "ACIDS",
          "ALCOHOLS",
          "INSECT ODORS",
          "KETONES",
          "INSECT ODORS",
          "Odorants speciﬁc to organisms",
          "INSECT ODORS",
          "KETONES",
          "ESTERS",
          "ALCOHOLS",
          "ALDEHYDES",
          "KETONES",
          "KETONES",
          "ALDEHYDES",
          "ALDEHYDES",
          "LACTONES",
          "INSECT ODORS",
          "ALDEHYDES",
          "Repellents",
          "SULPHOREOUS",
          "ESTERS",
          "INSECT ODORS",
          "ACIDS",
          "ACIDS",
          "ESTERS",
          "Repellents",
          "ESTERS",
          "KETONES",
          "ACIDS",
          "ALCOHOLS",
          "INSECT ODORS",
          "Repellents",
          "ALCOHOLS",
          "ALDEHYDES",
          "Repellents",
          "OTHERS",
          "ACIDS",
          "ESTERS",
          "KETONES",
          "INSECT ODORS",
          "ALCOHOLS",
          "Repellents",
          "INSECT ODORS",
          "INSECT ODORS",
          "Repellents",
          "ALDEHYDES",
          "Repellents",
          "ALCOHOLS",
          "ALCOHOLS",
          "ALDEHYDES",
          "Repellents",
          "KETONES",
          "ESTERS",
          "ACIDS",
          "INSECT ODORS",
          "KETONES",
          "ALCOHOLS",
          "ALDEHYDES",
          "KETONES"
         ],
         "x0": " ",
         "xaxis": "x",
         "y": [
          -4.113,
          -4.096,
          -4.213,
          -3.691,
          -4.814,
          -2.683,
          -4.58,
          -4.102,
          -5.953,
          -4.38,
          -4.541,
          -5.187,
          -4.536,
          -3.487,
          -3.846,
          -5.34,
          -4.933,
          -3.297,
          -4.452,
          -4.351,
          -5.52,
          -4.404,
          -4.562,
          -3.712,
          -6.926,
          -5.43,
          -4.869,
          -5.125,
          -3.283,
          -3.763,
          -4.605,
          -2.353,
          -3.456,
          -4.423,
          -3.644,
          -4.615,
          -5.048,
          -4.696,
          -4.684,
          -3.554,
          -4.267,
          -3.915,
          -5.092,
          -4.432,
          -3.404,
          -5.05,
          -5.556,
          -4.963,
          -5.64,
          -4.288,
          -4.871,
          -4.869,
          -3.917,
          -6.111,
          -4.705,
          -5.585,
          -4.907,
          -4.985,
          -5.57,
          -3.266,
          -6.001,
          -4.17,
          -3.704,
          -4.044,
          -4.966,
          -4.725,
          -5.471,
          -4.951,
          -5.58,
          -4.51,
          -3.583,
          -5.54,
          -4.199,
          -3.358,
          -4.406,
          -4.795,
          -5.349,
          -3.894,
          -4.208,
          -5.335,
          -3.691,
          -5.265,
          -3.71,
          -5.676,
          -4.214,
          -3.713,
          -4.681,
          -4.701,
          -4.449,
          -5.577,
          -5.286,
          -4.934,
          -4.489,
          -3.987,
          -5.29,
          -1.989,
          -4.262,
          -4.778,
          -4.178,
          -4.055,
          -3.988,
          -3.773,
          -4.693,
          -4.239,
          -3.63,
          -4.521,
          -3.841,
          -4.389,
          -4.254,
          -5.082,
          -4.608,
          -4.703,
          -3.123,
          -4.303,
          -4.433,
          -3.317,
          -4.91,
          -4.401,
          -3.342,
          -3.591,
          -4.413,
          -4.759,
          -5.016,
          -4.633,
          -4.533,
          -5.479,
          -5.116,
          -4.38,
          -4.052,
          -4.842,
          -3.909,
          -4.451,
          -5.73,
          -4.818,
          -5.082
         ],
         "y0": " ",
         "yaxis": "y"
        },
        {
         "alignmentgroup": "True",
         "customdata": [
          [
           "Heptanal"
          ],
          [
           "methylhexanoate"
          ],
          [
           "2-nonanlol"
          ],
          [
           "hexylacetate"
          ],
          [
           "E-2-hexenylacetate"
          ],
          [
           "Thiazole"
          ],
          [
           "butylanthralite"
          ],
          [
           "2-isobutyl3-methoxypyrazine"
          ],
          [
           "Cinnamaldehyde"
          ],
          [
           "Geraniol"
          ],
          [
           "Ethyl-vanillin"
          ],
          [
           "Beta-ionone"
          ],
          [
           "hexanoicacid"
          ],
          [
           "3-hydroxybutan-2-one"
          ],
          [
           "1-dodecanol"
          ],
          [
           "Phenylmethanol"
          ],
          [
           "Quinolin"
          ],
          [
           "Butanal"
          ],
          [
           "methylheptanoate"
          ],
          [
           "isoamylacetate"
          ],
          [
           "Cineol"
          ],
          [
           "Cyclohexanone"
          ],
          [
           "butylbutyrate"
          ],
          [
           "butyricacid"
          ],
          [
           "Cumarin"
          ],
          [
           "Estragol"
          ],
          [
           "1-nonanol"
          ],
          [
           "Vanillin"
          ],
          [
           "Diacetyl-C.elegans-"
          ],
          [
           "ethyl-3-hydroxybutyrate"
          ],
          [
           "Benzaldehyde"
          ],
          [
           "Acetaldehyde"
          ],
          [
           "propionicacid"
          ],
          [
           "Menthone"
          ],
          [
           "isobutyricacid"
          ],
          [
           "4-octanol"
          ],
          [
           "ethyldecanoate"
          ],
          [
           "heptanoicacid"
          ],
          [
           "DEET"
          ],
          [
           "ethylpropionate"
          ],
          [
           "Octanal"
          ],
          [
           "Hexanal"
          ],
          [
           "octanoicacid"
          ],
          [
           "Maltol"
          ],
          [
           "methylbutyrate"
          ],
          [
           "Citralva"
          ],
          [
           "Eucalypton"
          ],
          [
           "Linalool"
          ],
          [
           "Lyral"
          ],
          [
           "diethylsuccinate"
          ],
          [
           "ethylanthralite"
          ],
          [
           "Menthol"
          ],
          [
           "ethylisobutyrate"
          ],
          [
           "Trans-cinnamicacid"
          ],
          [
           "1-octen-3-ol"
          ],
          [
           "Α-terpineol"
          ],
          [
           "Anisol"
          ],
          [
           "Dodecanal"
          ],
          [
           "dodecanoicacid"
          ],
          [
           "Isobutylacetate"
          ],
          [
           "Safrol"
          ],
          [
           "ethylbutyrate"
          ],
          [
           "Pentanal"
          ],
          [
           "Pyridine"
          ],
          [
           "geranylacetate"
          ],
          [
           "6-methyl-5-hepten-2-one"
          ],
          [
           "Trans-anethol"
          ],
          [
           "Gvaiacol"
          ],
          [
           "methylsalicylate"
          ],
          [
           "3-octanone"
          ],
          [
           "propylacetate"
          ],
          [
           "Limonene"
          ],
          [
           "2-nonanone"
          ],
          [
           "butylacetate"
          ],
          [
           "Benzothiazol"
          ],
          [
           "ethyloctanoate"
          ],
          [
           "decanoicacid"
          ],
          [
           "1-heptanol"
          ],
          [
           "pentylacetate"
          ],
          [
           "2-dodecanone"
          ],
          [
           "2-pentanone"
          ],
          [
           "eugenol-M.musculus-"
          ],
          [
           "3-methylbutanol"
          ],
          [
           "Acetophenone"
          ],
          [
           "ethylnonanoate"
          ],
          [
           "2-ethyl1-hexanol"
          ],
          [
           "Undecanal"
          ],
          [
           "3-nonanone"
          ],
          [
           "Hedione"
          ],
          [
           "Citral"
          ],
          [
           "-Citronellal"
          ],
          [
           "Gamma-decalactone"
          ],
          [
           "Γ-hexalactone"
          ],
          [
           "Para-anisaldehyde"
          ],
          [
           "Beta-thujone"
          ],
          [
           "dimethyldisulﬁde"
          ],
          [
           "ethylhexanoate"
          ],
          [
           "z-2-hexenol"
          ],
          [
           "isovalericacid"
          ],
          [
           "2-isobutyl-3-methoxypyrazine"
          ],
          [
           "methyloctanoate"
          ],
          [
           "2-sec-butyl-3-methoxypyrazine"
          ],
          [
           "methyldecanoate"
          ],
          [
           "2-decanone"
          ],
          [
           "2-methylpyrazine"
          ],
          [
           "3-octanol"
          ],
          [
           "1-pentanol"
          ],
          [
           "ethylchrysanthemate"
          ],
          [
           "1-hexanol"
          ],
          [
           "+Citronellal"
          ],
          [
           "methylN,N,-dimethylanthranilite"
          ],
          [
           "Indole"
          ],
          [
           "Pyrazine"
          ],
          [
           "ethylheptanoate"
          ],
          [
           "2-heptanone"
          ],
          [
           "1-butanol"
          ],
          [
           "1-decanol"
          ],
          [
           "Alpha-thujone"
          ],
          [
           "ethyl-trans-2-butenoate"
          ],
          [
           "2-pentanol"
          ],
          [
           "Picaridin"
          ],
          [
           "Decanal"
          ],
          [
           "Allyl-ionoe"
          ],
          [
           "2-octanol"
          ],
          [
           "1-octanol"
          ],
          [
           "Helional-phenobarbital-"
          ],
          [
           "methylp-tert-butylphenylacetate"
          ],
          [
           "Camphor"
          ],
          [
           "methylnonanoate"
          ],
          [
           "nonanoicacid"
          ],
          [
           "3-methyl-2-buten-1-ol"
          ],
          [
           "2-octanone"
          ],
          [
           "Thymol"
          ],
          [
           "Nonanal"
          ],
          [
           "piperonylacetone"
          ]
         ],
         "hovertemplate": "Receptor=F1R141<br>Tipo=%{x}<br>Afinidad=%{y}<br>Ligando=%{customdata[0]}<extra></extra>",
         "legendgroup": "F1R141",
         "marker": {
          "color": "#ab63fa"
         },
         "name": "F1R141",
         "notched": false,
         "offsetgroup": "F1R141",
         "orientation": "v",
         "quartilemethod": "inclusive",
         "showlegend": true,
         "type": "box",
         "x": [
          "ALDEHYDES",
          "ESTERS",
          "ALCOHOLS",
          "INSECT ODORS",
          "INSECT ODORS",
          "SULPHOREOUS",
          "Repellents",
          "Repellents",
          "ALDEHYDES",
          "ALCOHOLS",
          "ALDEHYDES",
          "KETONES",
          "ACIDS",
          "KETONES",
          "ALCOHOLS",
          "ALCOHOLS",
          "OTHERS",
          "INSECT ODORS",
          "ESTERS",
          "ESTERS",
          "OTHERS",
          "KETONES",
          "ESTERS",
          "ACIDS",
          "LACTONES",
          "OTHERS",
          "ALCOHOLS",
          "ALDEHYDES",
          "Odorants speciﬁc to organisms",
          "INSECT ODORS",
          "ALDEHYDES",
          "INSECT ODORS",
          "ACIDS",
          "KETONES",
          "ACIDS",
          "ALCOHOLS",
          "ESTERS",
          "ACIDS",
          "Repellents",
          "INSECT ODORS",
          "ALDEHYDES",
          "ALDEHYDES",
          "ACIDS",
          "ALCOHOLS",
          "INSECT ODORS",
          "OTHERS",
          "Repellents",
          "INSECT ODORS",
          "ALDEHYDES",
          "INSECT ODORS",
          "Repellents",
          "ALCOHOLS",
          "ESTERS",
          "ACIDS",
          "INSECT ODORS",
          "INSECT ODORS",
          "OTHERS",
          "ALDEHYDES",
          "ACIDS",
          "INSECT ODORS",
          "OTHERS",
          "ESTERS",
          "INSECT ODORS",
          "OTHERS",
          "ESTERS",
          "KETONES",
          "OTHERS",
          "ALCOHOLS",
          "ESTERS",
          "KETONES",
          "INSECT ODORS",
          "OTHERS",
          "KETONES",
          "INSECT ODORS",
          "SULPHOREOUS",
          "ESTERS",
          "ACIDS",
          "ALCOHOLS",
          "INSECT ODORS",
          "KETONES",
          "INSECT ODORS",
          "Odorants speciﬁc to organisms",
          "INSECT ODORS",
          "KETONES",
          "ESTERS",
          "ALCOHOLS",
          "ALDEHYDES",
          "KETONES",
          "KETONES",
          "ALDEHYDES",
          "ALDEHYDES",
          "LACTONES",
          "INSECT ODORS",
          "ALDEHYDES",
          "Repellents",
          "SULPHOREOUS",
          "ESTERS",
          "INSECT ODORS",
          "ACIDS",
          "ACIDS",
          "ESTERS",
          "Repellents",
          "ESTERS",
          "KETONES",
          "ACIDS",
          "ALCOHOLS",
          "INSECT ODORS",
          "Repellents",
          "ALCOHOLS",
          "ALDEHYDES",
          "Repellents",
          "OTHERS",
          "ACIDS",
          "ESTERS",
          "KETONES",
          "INSECT ODORS",
          "ALCOHOLS",
          "Repellents",
          "INSECT ODORS",
          "INSECT ODORS",
          "Repellents",
          "ALDEHYDES",
          "Repellents",
          "ALCOHOLS",
          "ALCOHOLS",
          "ALDEHYDES",
          "Repellents",
          "KETONES",
          "ESTERS",
          "ACIDS",
          "INSECT ODORS",
          "KETONES",
          "ALCOHOLS",
          "ALDEHYDES",
          "KETONES"
         ],
         "x0": " ",
         "xaxis": "x",
         "y": [
          -4.181,
          -3.921,
          -3.959,
          -4.225,
          -4.035,
          -2.786,
          -4.975,
          -4.502,
          -5.357,
          -4.963,
          -4.728,
          -5.456,
          -4.037,
          -3.112,
          -4.507,
          -4.488,
          -5.458,
          -3.643,
          -4.166,
          -3.845,
          -5.271,
          -4.098,
          -4.876,
          -3.295,
          -5.63,
          -5.289,
          -4.254,
          -4.577,
          -3.114,
          -4.154,
          -4.526,
          -2.321,
          -3.709,
          -4.971,
          -4.248,
          -4.205,
          -4.472,
          -4.203,
          -4.867,
          -3.476,
          -4.76,
          -4.277,
          -4.427,
          -4.356,
          -3.398,
          -4.831,
          -5.928,
          -4.77,
          -5.704,
          -3.786,
          -5.051,
          -4.829,
          -3.988,
          -5.47,
          -4.781,
          -5.719,
          -4.763,
          -5.676,
          -4.964,
          -4.182,
          -5.46,
          -4.31,
          -3.383,
          -4.119,
          -4.988,
          -5.136,
          -5.22,
          -4.404,
          -4.942,
          -4.751,
          -3.767,
          -5.387,
          -3.994,
          -3.541,
          -4.415,
          -5.786,
          -4.166,
          -4.845,
          -4.401,
          -4.589,
          -3.839,
          -5.354,
          -4.378,
          -4.955,
          -5.452,
          -3.929,
          -4.349,
          -5.11,
          -5.243,
          -5.118,
          -5.628,
          -4.831,
          -4.283,
          -4.362,
          -5.117,
          -1.935,
          -3.935,
          -4.216,
          -3.702,
          -4.508,
          -4.224,
          -4.279,
          -5.279,
          -4.474,
          -3.437,
          -4.144,
          -4.313,
          -4.747,
          -3.828,
          -4.716,
          -4.661,
          -4.938,
          -3.258,
          -4.391,
          -4.024,
          -3.907,
          -4.048,
          -5.201,
          -3.882,
          -4.317,
          -4.993,
          -4.198,
          -5.46,
          -3.968,
          -3.946,
          -6.515,
          -5.273,
          -4.758,
          -4.322,
          -4.196,
          -3.559,
          -4.447,
          -5.303,
          -4.266,
          -5.721
         ],
         "y0": " ",
         "yaxis": "y"
        }
       ],
       "layout": {
        "boxmode": "group",
        "legend": {
         "title": {
          "text": "Receptor"
         },
         "tracegroupgap": 0
        },
        "template": {
         "data": {
          "bar": [
           {
            "error_x": {
             "color": "#2a3f5f"
            },
            "error_y": {
             "color": "#2a3f5f"
            },
            "marker": {
             "line": {
              "color": "#E5ECF6",
              "width": 0.5
             },
             "pattern": {
              "fillmode": "overlay",
              "size": 10,
              "solidity": 0.2
             }
            },
            "type": "bar"
           }
          ],
          "barpolar": [
           {
            "marker": {
             "line": {
              "color": "#E5ECF6",
              "width": 0.5
             },
             "pattern": {
              "fillmode": "overlay",
              "size": 10,
              "solidity": 0.2
             }
            },
            "type": "barpolar"
           }
          ],
          "carpet": [
           {
            "aaxis": {
             "endlinecolor": "#2a3f5f",
             "gridcolor": "white",
             "linecolor": "white",
             "minorgridcolor": "white",
             "startlinecolor": "#2a3f5f"
            },
            "baxis": {
             "endlinecolor": "#2a3f5f",
             "gridcolor": "white",
             "linecolor": "white",
             "minorgridcolor": "white",
             "startlinecolor": "#2a3f5f"
            },
            "type": "carpet"
           }
          ],
          "choropleth": [
           {
            "colorbar": {
             "outlinewidth": 0,
             "ticks": ""
            },
            "type": "choropleth"
           }
          ],
          "contour": [
           {
            "colorbar": {
             "outlinewidth": 0,
             "ticks": ""
            },
            "colorscale": [
             [
              0,
              "#0d0887"
             ],
             [
              0.1111111111111111,
              "#46039f"
             ],
             [
              0.2222222222222222,
              "#7201a8"
             ],
             [
              0.3333333333333333,
              "#9c179e"
             ],
             [
              0.4444444444444444,
              "#bd3786"
             ],
             [
              0.5555555555555556,
              "#d8576b"
             ],
             [
              0.6666666666666666,
              "#ed7953"
             ],
             [
              0.7777777777777778,
              "#fb9f3a"
             ],
             [
              0.8888888888888888,
              "#fdca26"
             ],
             [
              1,
              "#f0f921"
             ]
            ],
            "type": "contour"
           }
          ],
          "contourcarpet": [
           {
            "colorbar": {
             "outlinewidth": 0,
             "ticks": ""
            },
            "type": "contourcarpet"
           }
          ],
          "heatmap": [
           {
            "colorbar": {
             "outlinewidth": 0,
             "ticks": ""
            },
            "colorscale": [
             [
              0,
              "#0d0887"
             ],
             [
              0.1111111111111111,
              "#46039f"
             ],
             [
              0.2222222222222222,
              "#7201a8"
             ],
             [
              0.3333333333333333,
              "#9c179e"
             ],
             [
              0.4444444444444444,
              "#bd3786"
             ],
             [
              0.5555555555555556,
              "#d8576b"
             ],
             [
              0.6666666666666666,
              "#ed7953"
             ],
             [
              0.7777777777777778,
              "#fb9f3a"
             ],
             [
              0.8888888888888888,
              "#fdca26"
             ],
             [
              1,
              "#f0f921"
             ]
            ],
            "type": "heatmap"
           }
          ],
          "heatmapgl": [
           {
            "colorbar": {
             "outlinewidth": 0,
             "ticks": ""
            },
            "colorscale": [
             [
              0,
              "#0d0887"
             ],
             [
              0.1111111111111111,
              "#46039f"
             ],
             [
              0.2222222222222222,
              "#7201a8"
             ],
             [
              0.3333333333333333,
              "#9c179e"
             ],
             [
              0.4444444444444444,
              "#bd3786"
             ],
             [
              0.5555555555555556,
              "#d8576b"
             ],
             [
              0.6666666666666666,
              "#ed7953"
             ],
             [
              0.7777777777777778,
              "#fb9f3a"
             ],
             [
              0.8888888888888888,
              "#fdca26"
             ],
             [
              1,
              "#f0f921"
             ]
            ],
            "type": "heatmapgl"
           }
          ],
          "histogram": [
           {
            "marker": {
             "pattern": {
              "fillmode": "overlay",
              "size": 10,
              "solidity": 0.2
             }
            },
            "type": "histogram"
           }
          ],
          "histogram2d": [
           {
            "colorbar": {
             "outlinewidth": 0,
             "ticks": ""
            },
            "colorscale": [
             [
              0,
              "#0d0887"
             ],
             [
              0.1111111111111111,
              "#46039f"
             ],
             [
              0.2222222222222222,
              "#7201a8"
             ],
             [
              0.3333333333333333,
              "#9c179e"
             ],
             [
              0.4444444444444444,
              "#bd3786"
             ],
             [
              0.5555555555555556,
              "#d8576b"
             ],
             [
              0.6666666666666666,
              "#ed7953"
             ],
             [
              0.7777777777777778,
              "#fb9f3a"
             ],
             [
              0.8888888888888888,
              "#fdca26"
             ],
             [
              1,
              "#f0f921"
             ]
            ],
            "type": "histogram2d"
           }
          ],
          "histogram2dcontour": [
           {
            "colorbar": {
             "outlinewidth": 0,
             "ticks": ""
            },
            "colorscale": [
             [
              0,
              "#0d0887"
             ],
             [
              0.1111111111111111,
              "#46039f"
             ],
             [
              0.2222222222222222,
              "#7201a8"
             ],
             [
              0.3333333333333333,
              "#9c179e"
             ],
             [
              0.4444444444444444,
              "#bd3786"
             ],
             [
              0.5555555555555556,
              "#d8576b"
             ],
             [
              0.6666666666666666,
              "#ed7953"
             ],
             [
              0.7777777777777778,
              "#fb9f3a"
             ],
             [
              0.8888888888888888,
              "#fdca26"
             ],
             [
              1,
              "#f0f921"
             ]
            ],
            "type": "histogram2dcontour"
           }
          ],
          "mesh3d": [
           {
            "colorbar": {
             "outlinewidth": 0,
             "ticks": ""
            },
            "type": "mesh3d"
           }
          ],
          "parcoords": [
           {
            "line": {
             "colorbar": {
              "outlinewidth": 0,
              "ticks": ""
             }
            },
            "type": "parcoords"
           }
          ],
          "pie": [
           {
            "automargin": true,
            "type": "pie"
           }
          ],
          "scatter": [
           {
            "marker": {
             "colorbar": {
              "outlinewidth": 0,
              "ticks": ""
             }
            },
            "type": "scatter"
           }
          ],
          "scatter3d": [
           {
            "line": {
             "colorbar": {
              "outlinewidth": 0,
              "ticks": ""
             }
            },
            "marker": {
             "colorbar": {
              "outlinewidth": 0,
              "ticks": ""
             }
            },
            "type": "scatter3d"
           }
          ],
          "scattercarpet": [
           {
            "marker": {
             "colorbar": {
              "outlinewidth": 0,
              "ticks": ""
             }
            },
            "type": "scattercarpet"
           }
          ],
          "scattergeo": [
           {
            "marker": {
             "colorbar": {
              "outlinewidth": 0,
              "ticks": ""
             }
            },
            "type": "scattergeo"
           }
          ],
          "scattergl": [
           {
            "marker": {
             "colorbar": {
              "outlinewidth": 0,
              "ticks": ""
             }
            },
            "type": "scattergl"
           }
          ],
          "scattermapbox": [
           {
            "marker": {
             "colorbar": {
              "outlinewidth": 0,
              "ticks": ""
             }
            },
            "type": "scattermapbox"
           }
          ],
          "scatterpolar": [
           {
            "marker": {
             "colorbar": {
              "outlinewidth": 0,
              "ticks": ""
             }
            },
            "type": "scatterpolar"
           }
          ],
          "scatterpolargl": [
           {
            "marker": {
             "colorbar": {
              "outlinewidth": 0,
              "ticks": ""
             }
            },
            "type": "scatterpolargl"
           }
          ],
          "scatterternary": [
           {
            "marker": {
             "colorbar": {
              "outlinewidth": 0,
              "ticks": ""
             }
            },
            "type": "scatterternary"
           }
          ],
          "surface": [
           {
            "colorbar": {
             "outlinewidth": 0,
             "ticks": ""
            },
            "colorscale": [
             [
              0,
              "#0d0887"
             ],
             [
              0.1111111111111111,
              "#46039f"
             ],
             [
              0.2222222222222222,
              "#7201a8"
             ],
             [
              0.3333333333333333,
              "#9c179e"
             ],
             [
              0.4444444444444444,
              "#bd3786"
             ],
             [
              0.5555555555555556,
              "#d8576b"
             ],
             [
              0.6666666666666666,
              "#ed7953"
             ],
             [
              0.7777777777777778,
              "#fb9f3a"
             ],
             [
              0.8888888888888888,
              "#fdca26"
             ],
             [
              1,
              "#f0f921"
             ]
            ],
            "type": "surface"
           }
          ],
          "table": [
           {
            "cells": {
             "fill": {
              "color": "#EBF0F8"
             },
             "line": {
              "color": "white"
             }
            },
            "header": {
             "fill": {
              "color": "#C8D4E3"
             },
             "line": {
              "color": "white"
             }
            },
            "type": "table"
           }
          ]
         },
         "layout": {
          "annotationdefaults": {
           "arrowcolor": "#2a3f5f",
           "arrowhead": 0,
           "arrowwidth": 1
          },
          "autotypenumbers": "strict",
          "coloraxis": {
           "colorbar": {
            "outlinewidth": 0,
            "ticks": ""
           }
          },
          "colorscale": {
           "diverging": [
            [
             0,
             "#8e0152"
            ],
            [
             0.1,
             "#c51b7d"
            ],
            [
             0.2,
             "#de77ae"
            ],
            [
             0.3,
             "#f1b6da"
            ],
            [
             0.4,
             "#fde0ef"
            ],
            [
             0.5,
             "#f7f7f7"
            ],
            [
             0.6,
             "#e6f5d0"
            ],
            [
             0.7,
             "#b8e186"
            ],
            [
             0.8,
             "#7fbc41"
            ],
            [
             0.9,
             "#4d9221"
            ],
            [
             1,
             "#276419"
            ]
           ],
           "sequential": [
            [
             0,
             "#0d0887"
            ],
            [
             0.1111111111111111,
             "#46039f"
            ],
            [
             0.2222222222222222,
             "#7201a8"
            ],
            [
             0.3333333333333333,
             "#9c179e"
            ],
            [
             0.4444444444444444,
             "#bd3786"
            ],
            [
             0.5555555555555556,
             "#d8576b"
            ],
            [
             0.6666666666666666,
             "#ed7953"
            ],
            [
             0.7777777777777778,
             "#fb9f3a"
            ],
            [
             0.8888888888888888,
             "#fdca26"
            ],
            [
             1,
             "#f0f921"
            ]
           ],
           "sequentialminus": [
            [
             0,
             "#0d0887"
            ],
            [
             0.1111111111111111,
             "#46039f"
            ],
            [
             0.2222222222222222,
             "#7201a8"
            ],
            [
             0.3333333333333333,
             "#9c179e"
            ],
            [
             0.4444444444444444,
             "#bd3786"
            ],
            [
             0.5555555555555556,
             "#d8576b"
            ],
            [
             0.6666666666666666,
             "#ed7953"
            ],
            [
             0.7777777777777778,
             "#fb9f3a"
            ],
            [
             0.8888888888888888,
             "#fdca26"
            ],
            [
             1,
             "#f0f921"
            ]
           ]
          },
          "colorway": [
           "#636efa",
           "#EF553B",
           "#00cc96",
           "#ab63fa",
           "#FFA15A",
           "#19d3f3",
           "#FF6692",
           "#B6E880",
           "#FF97FF",
           "#FECB52"
          ],
          "font": {
           "color": "#2a3f5f"
          },
          "geo": {
           "bgcolor": "white",
           "lakecolor": "white",
           "landcolor": "#E5ECF6",
           "showlakes": true,
           "showland": true,
           "subunitcolor": "white"
          },
          "hoverlabel": {
           "align": "left"
          },
          "hovermode": "closest",
          "mapbox": {
           "style": "light"
          },
          "paper_bgcolor": "white",
          "plot_bgcolor": "#E5ECF6",
          "polar": {
           "angularaxis": {
            "gridcolor": "white",
            "linecolor": "white",
            "ticks": ""
           },
           "bgcolor": "#E5ECF6",
           "radialaxis": {
            "gridcolor": "white",
            "linecolor": "white",
            "ticks": ""
           }
          },
          "scene": {
           "xaxis": {
            "backgroundcolor": "#E5ECF6",
            "gridcolor": "white",
            "gridwidth": 2,
            "linecolor": "white",
            "showbackground": true,
            "ticks": "",
            "zerolinecolor": "white"
           },
           "yaxis": {
            "backgroundcolor": "#E5ECF6",
            "gridcolor": "white",
            "gridwidth": 2,
            "linecolor": "white",
            "showbackground": true,
            "ticks": "",
            "zerolinecolor": "white"
           },
           "zaxis": {
            "backgroundcolor": "#E5ECF6",
            "gridcolor": "white",
            "gridwidth": 2,
            "linecolor": "white",
            "showbackground": true,
            "ticks": "",
            "zerolinecolor": "white"
           }
          },
          "shapedefaults": {
           "line": {
            "color": "#2a3f5f"
           }
          },
          "ternary": {
           "aaxis": {
            "gridcolor": "white",
            "linecolor": "white",
            "ticks": ""
           },
           "baxis": {
            "gridcolor": "white",
            "linecolor": "white",
            "ticks": ""
           },
           "bgcolor": "#E5ECF6",
           "caxis": {
            "gridcolor": "white",
            "linecolor": "white",
            "ticks": ""
           }
          },
          "title": {
           "x": 0.05
          },
          "xaxis": {
           "automargin": true,
           "gridcolor": "white",
           "linecolor": "white",
           "ticks": "",
           "title": {
            "standoff": 15
           },
           "zerolinecolor": "white",
           "zerolinewidth": 2
          },
          "yaxis": {
           "automargin": true,
           "gridcolor": "white",
           "linecolor": "white",
           "ticks": "",
           "title": {
            "standoff": 15
           },
           "zerolinecolor": "white",
           "zerolinewidth": 2
          }
         }
        },
        "title": {
         "text": "Box plot de afinidades"
        },
        "xaxis": {
         "anchor": "y",
         "domain": [
          0,
          1
         ],
         "title": {
          "text": "Tipo"
         }
        },
        "yaxis": {
         "anchor": "x",
         "domain": [
          0,
          1
         ],
         "title": {
          "text": "Afinidad"
         }
        }
       }
      }
     },
     "metadata": {},
     "output_type": "display_data"
    }
   ],
   "source": [
    "import re\n",
    "import os\n",
    "import csv\n",
    "import pandas as pd\n",
    "import seaborn as sns\n",
    "import matplotlib.pyplot as plt\n",
    "import plotly.express as px\n",
    "import numpy as np\n",
    "\n",
    "def obtener_mejor_pose(file):\n",
    "    with open(file, 'r') as f:\n",
    "        lines = f.readlines()\n",
    "        # Inicializar variables para la mejor pose\n",
    "        mejor_affinity = None\n",
    "        mejor_pose_data = None\n",
    "        # Expresión regular para buscar líneas con datos de poses\n",
    "        pose_pattern = re.compile(r'\\s*(\\d+)\\s+(-?\\d+\\.\\d+)\\s+(-?\\d+(?:\\.\\d+)?|\\d+)\\s+(-?\\d+(?:\\.\\d+)?|\\d+)')\n",
    "        # Iterar sobre cada línea del archivo\n",
    "        for line in lines:\n",
    "            # Buscar líneas que contienen datos de poses\n",
    "            match = pose_pattern.match(line)\n",
    "            if match:\n",
    "                # Obtener los datos de la pose\n",
    "                mode, affinity, dist_lb, dist_ub = match.groups()\n",
    "                affinity = float(affinity)\n",
    "                # Si es la primera pose o tiene una afinidad más alta que la mejor hasta ahora\n",
    "                if mejor_affinity is None or affinity < mejor_affinity:\n",
    "                    # Actualizar los datos de la mejor pose\n",
    "                    mejor_affinity = affinity\n",
    "                    mejor_pose_data = mode, affinity, dist_lb, dist_ub\n",
    "        return mejor_pose_data\n",
    "\n",
    "receptores = []\n",
    "\n",
    "ruta_resultados = \"Dockings/\"\n",
    "\n",
    "for elemento in os.listdir(ruta_resultados):\n",
    "    ruta_completa = os.path.join(ruta_resultados, elemento)\n",
    "\n",
    "    # Verificar si es una carpeta\n",
    "    if os.path.isdir(ruta_completa):\n",
    "        receptores.append(elemento)\n",
    "\n",
    "\n",
    "for receptor in receptores:\n",
    "    if not os.path.exists(f\"LogsProcesados/{receptor}\"):\n",
    "        os.makedirs(f\"LogsProcesados/{receptor}\")\n",
    "\n",
    "    logs = os.listdir(f\"{ruta_resultados}{receptor}\")\n",
    "\n",
    "    summary = []\n",
    "\n",
    "    for log in logs:\n",
    "        mejor_pose = obtener_mejor_pose(f\"{ruta_resultados}{receptor}/{log}\")\n",
    "\n",
    "        if mejor_pose:\n",
    "            mode, affinity, dist_lb, dist_ub = mejor_pose\n",
    "            # print(f\"Mejor Pose - Mode: {mode}, Afinidad: {affinity}, Distancia LB: {dist_lb}, Distancia UB: {dist_ub}\")\n",
    "            if affinity > 0:\n",
    "                print(affinity)\n",
    "            summary.append((log.removesuffix(\".pdbqt.log\"), affinity))\n",
    "        else:\n",
    "            print(\"No se encontraron datos de la mejor pose en el archivo de log.\")\n",
    "\n",
    "    with open(f'LogsProcesados/{receptor}/summary.csv', 'w', newline='') as csvfile:\n",
    "        csvwriter = csv.writer(csvfile)\n",
    "\n",
    "        csvwriter.writerow(['Ligando', 'Afinidad'])\n",
    "        csvwriter.writerows(summary)\n",
    "\n",
    "\n",
    "df_ligandos = pd.read_csv(\"Ligandos/ligandos.csv\")\n",
    "\n",
    "\n",
    "df_completo = pd.DataFrame()\n",
    "for receptor in receptores:\n",
    "    df = pd.read_csv(f\"LogsProcesados/{receptor}/summary.csv\")\n",
    "\n",
    "    tipos = []\n",
    "\n",
    "    for _, row in df.iterrows():\n",
    "        name = row[\"Ligando\"]\n",
    "        resultado = df_ligandos[df_ligandos['Nombre'] == name]\n",
    "        tipos.append(resultado.iloc[0][\"Tipo\"])\n",
    "\n",
    "    df[\"Tipo\"] = tipos\n",
    "    df.to_csv(f\"LogsProcesados/{receptor}/summary.csv\")\n",
    "    df[\"Receptor\"] = [receptor] * len(tipos)\n",
    "\n",
    "    df_completo = pd.concat([df_completo, df])\n",
    "\n",
    "\n",
    "# ax = sns.boxplot(df_completo, x=\"Tipo\", y=\"Afinidad\", hue=\"Receptor\")\n",
    "fig = px.box(df_completo, x=\"Tipo\", y=\"Afinidad\", color=\"Receptor\",\n",
    "             title=\"Box plot de afinidades\",\n",
    "             hover_data=[\"Ligando\"])\n",
    "fig.update_traces(quartilemethod=\"inclusive\")\n",
    "fig.write_html(\"index.html\")\n",
    "fig.show()  \n",
    "\n",
    "\n",
    "\n",
    "\n",
    "\n",
    "\n"
   ]
  },
  {
   "cell_type": "code",
   "execution_count": null,
   "metadata": {},
   "outputs": [],
   "source": []
  }
 ],
 "metadata": {
  "kernelspec": {
   "display_name": "Python 3",
   "language": "python",
   "name": "python3"
  },
  "language_info": {
   "codemirror_mode": {
    "name": "ipython",
    "version": 3
   },
   "file_extension": ".py",
   "mimetype": "text/x-python",
   "name": "python",
   "nbconvert_exporter": "python",
   "pygments_lexer": "ipython3",
   "version": "3.10.12"
  }
 },
 "nbformat": 4,
 "nbformat_minor": 2
}

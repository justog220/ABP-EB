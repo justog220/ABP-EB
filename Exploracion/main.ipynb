{
 "cells": [
  {
   "cell_type": "code",
   "execution_count": 1,
   "metadata": {},
   "outputs": [],
   "source": [
    "import pandas as pd\n",
    "import requests"
   ]
  },
  {
   "cell_type": "code",
   "execution_count": 2,
   "metadata": {},
   "outputs": [],
   "source": [
    "df = pd.read_csv(\"unknome_protein_table_03_Nov_2023.tsv\", sep=\"\t\")"
   ]
  },
  {
   "cell_type": "code",
   "execution_count": 3,
   "metadata": {},
   "outputs": [
    {
     "name": "stdout",
     "output_type": "stream",
     "text": [
      "<class 'pandas.core.frame.DataFrame'>\n",
      "RangeIndex: 2006175 entries, 0 to 2006174\n",
      "Data columns (total 9 columns):\n",
      " #   Column              Dtype  \n",
      "---  ------              -----  \n",
      " 0   uniprot_name        object \n",
      " 1   uniprot_accessions  object \n",
      " 2   knownness           float64\n",
      " 3   gene_name           object \n",
      " 4   protein_name        object \n",
      " 5   taxon_id            int64  \n",
      " 6   species             object \n",
      " 7   cluster_id          object \n",
      " 8   panther_group       object \n",
      "dtypes: float64(1), int64(1), object(7)\n",
      "memory usage: 137.8+ MB\n"
     ]
    }
   ],
   "source": [
    "df.info()"
   ]
  },
  {
   "cell_type": "code",
   "execution_count": 4,
   "metadata": {},
   "outputs": [
    {
     "data": {
      "text/html": [
       "<div>\n",
       "<style scoped>\n",
       "    .dataframe tbody tr th:only-of-type {\n",
       "        vertical-align: middle;\n",
       "    }\n",
       "\n",
       "    .dataframe tbody tr th {\n",
       "        vertical-align: top;\n",
       "    }\n",
       "\n",
       "    .dataframe thead th {\n",
       "        text-align: right;\n",
       "    }\n",
       "</style>\n",
       "<table border=\"1\" class=\"dataframe\">\n",
       "  <thead>\n",
       "    <tr style=\"text-align: right;\">\n",
       "      <th></th>\n",
       "      <th>uniprot_name</th>\n",
       "      <th>uniprot_accessions</th>\n",
       "      <th>knownness</th>\n",
       "      <th>gene_name</th>\n",
       "      <th>protein_name</th>\n",
       "      <th>taxon_id</th>\n",
       "      <th>species</th>\n",
       "      <th>cluster_id</th>\n",
       "      <th>panther_group</th>\n",
       "    </tr>\n",
       "  </thead>\n",
       "  <tbody>\n",
       "    <tr>\n",
       "      <th>1027880</th>\n",
       "      <td>SHH_MOUSE</td>\n",
       "      <td>Q62226</td>\n",
       "      <td>214.8</td>\n",
       "      <td>Shh</td>\n",
       "      <td>Sonic hedgehog protein (SHH) (EC 3.1.-.-) (HHG...</td>\n",
       "      <td>10090</td>\n",
       "      <td>Mus musculus</td>\n",
       "      <td>UKP06206</td>\n",
       "      <td>PTHR11889</td>\n",
       "    </tr>\n",
       "  </tbody>\n",
       "</table>\n",
       "</div>"
      ],
      "text/plain": [
       "        uniprot_name uniprot_accessions  knownness gene_name  \\\n",
       "1027880    SHH_MOUSE             Q62226      214.8       Shh   \n",
       "\n",
       "                                              protein_name  taxon_id  \\\n",
       "1027880  Sonic hedgehog protein (SHH) (EC 3.1.-.-) (HHG...     10090   \n",
       "\n",
       "              species cluster_id panther_group  \n",
       "1027880  Mus musculus   UKP06206     PTHR11889  "
      ]
     },
     "execution_count": 4,
     "metadata": {},
     "output_type": "execute_result"
    }
   ],
   "source": [
    "proteina_interes = df.loc[df[\"knownness\"] == max(df[\"knownness\"])]\n",
    "uniprot = proteina_interes[\"uniprot_accessions\"].iloc[0]\n",
    "proteina_interes"
   ]
  },
  {
   "cell_type": "code",
   "execution_count": 5,
   "metadata": {},
   "outputs": [],
   "source": [
    "url = f\"https://rest.uniprot.org/uniprotkb/{uniprot}\"\n",
    "response = requests.request(\"GET\", url)"
   ]
  },
  {
   "cell_type": "code",
   "execution_count": 6,
   "metadata": {},
   "outputs": [],
   "source": [
    "if response.status_code == 200 and \"sequence\" in response.json():\n",
    "\tseq = response.json()[\"sequence\"][\"value\"]"
   ]
  },
  {
   "cell_type": "code",
   "execution_count": 7,
   "metadata": {},
   "outputs": [
    {
     "data": {
      "text/plain": [
       "'MLLLLARCFLVILASSLLVCPGLACGPGRGFGKRRHPKKLTPLAYKQFIPNVAEKTLGASGRYEGKITRNSERFKELTPNYNPDIIFKDEENTGADRLMTQRCKDKLNALAISVMNQWPGVKLRVTEGWDEDGHHSEESLHYEGRAVDITTSDRDRSKYGMLARLAVEAGFDWVYYESKAHIHCSVKAENSVAAKSGGCFPGSATVHLEQGGTKLVKDLRPGDRVLAADDQGRLLYSDFLTFLDRDEGAKKVFYVIETLEPRERLLLTAAHLLFVAPHNDSGPTPGPSALFASRVRPGQRVYVVAERGGDRRLLPAAVHSVTLREEEAGAYAPLTAHGTILINRVLASCYAVIEEHSWAHRAFAPFRLAHALLAALAPARTDGGGGGSIPAAQSATEARGAEPTAGIHWYSQLLYHIGTWLLDSETMHPLGMAVKSS'"
      ]
     },
     "execution_count": 7,
     "metadata": {},
     "output_type": "execute_result"
    }
   ],
   "source": [
    "seq"
   ]
  },
  {
   "cell_type": "code",
   "execution_count": 18,
   "metadata": {},
   "outputs": [
    {
     "name": "stdout",
     "output_type": "stream",
     "text": [
      "{'database': 'PDB', 'id': '1VHH', 'properties': [{'key': 'Method', 'value': 'X-ray'}, {'key': 'Resolution', 'value': '1.70 A'}, {'key': 'Chains', 'value': 'A=34-195'}]}\n",
      "{'database': 'PDB', 'id': '2WFX', 'properties': [{'key': 'Method', 'value': 'X-ray'}, {'key': 'Resolution', 'value': '3.20 A'}, {'key': 'Chains', 'value': 'A=40-191'}]}\n",
      "{'database': 'PDB', 'id': '2WG4', 'properties': [{'key': 'Method', 'value': 'X-ray'}, {'key': 'Resolution', 'value': '3.15 A'}, {'key': 'Chains', 'value': 'A=40-191'}]}\n",
      "{'database': 'PDB', 'id': '3D1M', 'properties': [{'key': 'Method', 'value': 'X-ray'}, {'key': 'Resolution', 'value': '1.70 A'}, {'key': 'Chains', 'value': 'A/B=26-189'}]}\n",
      "{'database': 'PDB', 'id': '3N1R', 'properties': [{'key': 'Method', 'value': 'X-ray'}, {'key': 'Resolution', 'value': '2.13 A'}, {'key': 'Chains', 'value': 'A=40-195'}]}\n",
      "{'database': 'PDB', 'id': '4C4M', 'properties': [{'key': 'Method', 'value': 'X-ray'}, {'key': 'Resolution', 'value': '1.74 A'}, {'key': 'Chains', 'value': 'A=40-195'}]}\n",
      "{'database': 'PDB', 'id': '4C4N', 'properties': [{'key': 'Method', 'value': 'X-ray'}, {'key': 'Resolution', 'value': '2.36 A'}, {'key': 'Chains', 'value': 'A/B=40-195'}]}\n",
      "{'database': 'PDB', 'id': '7RPK', 'properties': [{'key': 'Method', 'value': 'EM'}, {'key': 'Resolution', 'value': '2.70 A'}, {'key': 'Chains', 'value': 'H=26-189'}]}\n"
     ]
    }
   ],
   "source": [
    "pdb_ids = []\n",
    "for i in response.json()[\"uniProtKBCrossReferences\"]:\n",
    "\tif i['database'] == 'PDB':\n",
    "\t\tprint(i)\n",
    "\t\tpdb_ids.append(i['id'])"
   ]
  },
  {
   "cell_type": "code",
   "execution_count": 20,
   "metadata": {},
   "outputs": [
    {
     "name": "stdout",
     "output_type": "stream",
     "text": [
      "404\n",
      "404\n",
      "404\n",
      "404\n",
      "404\n",
      "404\n",
      "404\n",
      "404\n"
     ]
    }
   ],
   "source": [
    "for pdb_id in pdb_ids:\n",
    "\turl = 'https://files.rcsb.org/download/{pdb_id}.pdb'\n",
    "\tresponse = requests.get(url)\n",
    "\tprint(response.status_code)\n",
    "\tif response.status_code == 200:\n",
    "\t\twith open(f\"data/{pdb_id}.pdb\", \"wb\") as f:\n",
    "\t\t\tf.write(response.content)"
   ]
  },
  {
   "cell_type": "code",
   "execution_count": null,
   "metadata": {},
   "outputs": [],
   "source": []
  }
 ],
 "metadata": {
  "kernelspec": {
   "display_name": "BIO",
   "language": "python",
   "name": "python3"
  },
  "language_info": {
   "codemirror_mode": {
    "name": "ipython",
    "version": 3
   },
   "file_extension": ".py",
   "mimetype": "text/x-python",
   "name": "python",
   "nbconvert_exporter": "python",
   "pygments_lexer": "ipython3",
   "version": "3.12.2"
  }
 },
 "nbformat": 4,
 "nbformat_minor": 2
}
